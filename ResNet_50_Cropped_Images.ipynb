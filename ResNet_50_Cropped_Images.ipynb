{
  "nbformat": 4,
  "nbformat_minor": 0,
  "metadata": {
    "accelerator": "GPU",
    "colab": {
      "provenance": []
    },
    "kernelspec": {
      "display_name": "Python 3",
      "name": "python3"
    },
    "language_info": {
      "name": "python"
    },
    "gpuClass": "standard"
  },
  "cells": [
    {
      "cell_type": "code",
      "metadata": {
        "id": "0YBEz670Nnmv"
      },
      "source": [
        "import matplotlib.pyplot as plt\n",
        "import numpy as np\n",
        "import os\n",
        "import PIL\n",
        "import tensorflow as tf\n",
        "from tensorflow import keras\n",
        "from tensorflow.keras import layers\n",
        "from tensorflow.python.keras.layers import Dense, Flatten\n",
        "from tensorflow.keras.models import Sequential\n",
        "from tensorflow.keras.optimizers import Adam\n",
        "import pickle"
      ],
      "execution_count": 1,
      "outputs": []
    },
    {
      "cell_type": "markdown",
      "metadata": {
        "id": "Ir0q0GyfgmSI"
      },
      "source": [
        "# Preparing The Data"
      ]
    },
    {
      "cell_type": "code",
      "source": [
        "from google.colab import drive\n",
        "drive.mount('/content/drive')"
      ],
      "metadata": {
        "colab": {
          "base_uri": "https://localhost:8080/"
        },
        "id": "3RsArhJdnt6h",
        "outputId": "91324c77-1e8b-4dcc-adce-95c3cb72e9f8"
      },
      "execution_count": 2,
      "outputs": [
        {
          "output_type": "stream",
          "name": "stdout",
          "text": [
            "Mounted at /content/drive\n"
          ]
        }
      ]
    },
    {
      "cell_type": "code",
      "source": [
        "pickle_in = open(\"/content/drive/MyDrive/petskindata/X_train_cropped.pickle\",\"rb\")\n",
        "X=pickle.load(pickle_in)\n",
        "pickle_in = open(\"/content/drive/MyDrive/petskindata/y_train_cropped.pickle\",\"rb\")\n",
        "y=pickle.load(pickle_in)\n",
        "pickle_in = open(\"/content/drive/MyDrive/petskindata/X_test_cropped.pickle\",\"rb\")\n",
        "X_test=pickle.load(pickle_in)\n",
        "pickle_in = open(\"/content/drive/MyDrive/petskindata/y_test_cropped.pickle\",\"rb\")\n",
        "y_test=pickle.load(pickle_in)"
      ],
      "metadata": {
        "id": "w4tSrQZvT7P2"
      },
      "execution_count": 4,
      "outputs": []
    },
    {
      "cell_type": "code",
      "source": [
        "print(X[0], y[0], X_test[0], y_test[0])"
      ],
      "metadata": {
        "colab": {
          "base_uri": "https://localhost:8080/"
        },
        "id": "BPVwlNe_mjPg",
        "outputId": "aa1bbe80-c777-4ea0-cf8c-f5ba05eb273a"
      },
      "execution_count": 5,
      "outputs": [
        {
          "output_type": "stream",
          "name": "stdout",
          "text": [
            "[[[123 118 112]\n",
            "  [137 132 128]\n",
            "  [124 118 113]\n",
            "  ...\n",
            "  [137  96  68]\n",
            "  [136  95  67]\n",
            "  [135  92  66]]\n",
            "\n",
            " [[122 114 107]\n",
            "  [138 130 124]\n",
            "  [109 100  94]\n",
            "  ...\n",
            "  [131  91  65]\n",
            "  [127  87  60]\n",
            "  [127  85  60]]\n",
            "\n",
            " [[125 115 107]\n",
            "  [150 140 132]\n",
            "  [115 103  96]\n",
            "  ...\n",
            "  [117  79  55]\n",
            "  [115  77  51]\n",
            "  [118  78  53]]\n",
            "\n",
            " ...\n",
            "\n",
            " [[152 123 107]\n",
            "  [101  72  56]\n",
            "  [158 129 111]\n",
            "  ...\n",
            "  [131 118 109]\n",
            "  [115 103  92]\n",
            "  [137 128 118]]\n",
            "\n",
            " [[155 127 112]\n",
            "  [131 102  86]\n",
            "  [125  96  78]\n",
            "  ...\n",
            "  [ 92  80  71]\n",
            "  [109  99  90]\n",
            "  [154 145 137]]\n",
            "\n",
            " [[134 106  91]\n",
            "  [136 107  91]\n",
            "  [119  90  72]\n",
            "  ...\n",
            "  [106  95  88]\n",
            "  [123 112 105]\n",
            "  [158 150 143]]] 2 [[[203 175 164]\n",
            "  [208 178 168]\n",
            "  [216 185 175]\n",
            "  ...\n",
            "  [216 191 188]\n",
            "  [213 192 189]\n",
            "  [208 187 184]]\n",
            "\n",
            " [[202 171 161]\n",
            "  [208 177 167]\n",
            "  [212 180 171]\n",
            "  ...\n",
            "  [204 179 175]\n",
            "  [202 181 176]\n",
            "  [208 187 182]]\n",
            "\n",
            " [[204 171 162]\n",
            "  [207 174 166]\n",
            "  [215 182 173]\n",
            "  ...\n",
            "  [209 185 179]\n",
            "  [209 189 182]\n",
            "  [216 196 189]]\n",
            "\n",
            " ...\n",
            "\n",
            " [[196 161 155]\n",
            "  [199 165 159]\n",
            "  [201 168 161]\n",
            "  ...\n",
            "  [208 166 158]\n",
            "  [197 157 149]\n",
            "  [185 145 137]]\n",
            "\n",
            " [[202 165 159]\n",
            "  [204 168 162]\n",
            "  [206 170 164]\n",
            "  ...\n",
            "  [174 133 125]\n",
            "  [168 128 120]\n",
            "  [155 115 107]]\n",
            "\n",
            " [[185 148 142]\n",
            "  [197 158 153]\n",
            "  [189 150 145]\n",
            "  ...\n",
            "  [167 127 119]\n",
            "  [178 138 130]\n",
            "  [180 141 133]]] 1\n"
          ]
        }
      ]
    },
    {
      "cell_type": "code",
      "source": [
        "class_names = [\"A1_구진_플라크\",\"A2_비듬_각질_상피성잔고리\",\"A3_태선화_과다색소침착\",\"A4_농포_여드름\",\"A5_미란_궤양\",\"A6_결절_종괴\"]"
      ],
      "metadata": {
        "id": "lamrhoOQUqB0"
      },
      "execution_count": 6,
      "outputs": []
    },
    {
      "cell_type": "code",
      "source": [
        "class_names[y[0]]"
      ],
      "metadata": {
        "colab": {
          "base_uri": "https://localhost:8080/",
          "height": 35
        },
        "id": "XKS_FpePrRSi",
        "outputId": "c9b20728-dab2-4094-82cf-2a0baba3db02"
      },
      "execution_count": 7,
      "outputs": [
        {
          "output_type": "execute_result",
          "data": {
            "text/plain": [
              "'A3_태선화_과다색소침착'"
            ],
            "application/vnd.google.colaboratory.intrinsic+json": {
              "type": "string"
            }
          },
          "metadata": {},
          "execution_count": 7
        }
      ]
    },
    {
      "cell_type": "code",
      "source": [
        "y=np.array(y)\n",
        "y_test=np.array(y_test)"
      ],
      "metadata": {
        "id": "IletQGOQr_T9"
      },
      "execution_count": 8,
      "outputs": []
    },
    {
      "cell_type": "code",
      "metadata": {
        "id": "3zhkyQue1tit"
      },
      "source": [],
      "execution_count": null,
      "outputs": []
    },
    {
      "cell_type": "markdown",
      "metadata": {
        "id": "jK5tHnEpggbu"
      },
      "source": [
        "# Training The Model\n"
      ]
    },
    {
      "cell_type": "code",
      "metadata": {
        "id": "0AzdT8-Ya_lO",
        "colab": {
          "base_uri": "https://localhost:8080/"
        },
        "outputId": "1ea7ef65-7857-4317-bde0-023878b71d57"
      },
      "source": [
        "resnet_model = Sequential()\n",
        "\n",
        "pretrained_model= tf.keras.applications.ResNet50(include_top=False,\n",
        "                   input_shape=(100,100,3),\n",
        "                   pooling='avg',classes=6,\n",
        "                   weights='imagenet')\n",
        "for layer in pretrained_model.layers:\n",
        "        layer.trainable=False\n",
        "\n",
        "resnet_model.add(pretrained_model)\n",
        "resnet_model.add(Flatten())\n",
        "resnet_model.add(Dense(512, activation='relu'))\n",
        "resnet_model.add(Dense(6, activation='softmax'))"
      ],
      "execution_count": 9,
      "outputs": [
        {
          "output_type": "stream",
          "name": "stdout",
          "text": [
            "Downloading data from https://storage.googleapis.com/tensorflow/keras-applications/resnet/resnet50_weights_tf_dim_ordering_tf_kernels_notop.h5\n",
            "94765736/94765736 [==============================] - 1s 0us/step\n"
          ]
        }
      ]
    },
    {
      "cell_type": "code",
      "metadata": {
        "colab": {
          "base_uri": "https://localhost:8080/"
        },
        "id": "zAgSK9fAbp6y",
        "outputId": "f62f5f26-eb5b-41fd-d2df-cedf7fccb142"
      },
      "source": [
        "resnet_model.summary()"
      ],
      "execution_count": 10,
      "outputs": [
        {
          "output_type": "stream",
          "name": "stdout",
          "text": [
            "Model: \"sequential\"\n",
            "_________________________________________________________________\n",
            " Layer (type)                Output Shape              Param #   \n",
            "=================================================================\n",
            " resnet50 (Functional)       (None, 2048)              23587712  \n",
            "                                                                 \n",
            " module_wrapper (ModuleWrapp  (None, 2048)             0         \n",
            " er)                                                             \n",
            "                                                                 \n",
            " module_wrapper_1 (ModuleWra  (None, 512)              1049088   \n",
            " pper)                                                           \n",
            "                                                                 \n",
            " module_wrapper_2 (ModuleWra  (None, 6)                3078      \n",
            " pper)                                                           \n",
            "                                                                 \n",
            "=================================================================\n",
            "Total params: 24,639,878\n",
            "Trainable params: 1,052,166\n",
            "Non-trainable params: 23,587,712\n",
            "_________________________________________________________________\n"
          ]
        }
      ]
    },
    {
      "cell_type": "code",
      "metadata": {
        "id": "vPCJsk68dm40",
        "colab": {
          "base_uri": "https://localhost:8080/"
        },
        "outputId": "1d8d18c7-791d-434e-f27f-84bc4774fdac"
      },
      "source": [
        "resnet_model.compile(optimizer=Adam(lr=0.001),loss='sparse_categorical_crossentropy',metrics=['accuracy'])"
      ],
      "execution_count": 11,
      "outputs": [
        {
          "output_type": "stream",
          "name": "stderr",
          "text": [
            "WARNING:absl:`lr` is deprecated in Keras optimizer, please use `learning_rate` or use the legacy optimizer, e.g.,tf.keras.optimizers.legacy.Adam.\n"
          ]
        }
      ]
    },
    {
      "cell_type": "code",
      "metadata": {
        "colab": {
          "base_uri": "https://localhost:8080/"
        },
        "id": "wXEYsGTaeFi4",
        "outputId": "e168a97f-5e53-4568-b9c4-eb3dc575c238"
      },
      "source": [
        "epochs=30\n",
        "history = resnet_model.fit(X,y, epochs=epochs, validation_split=0.2)"
      ],
      "execution_count": 12,
      "outputs": [
        {
          "output_type": "stream",
          "name": "stdout",
          "text": [
            "Epoch 1/30\n",
            "1330/1330 [==============================] - 64s 36ms/step - loss: 1.4051 - accuracy: 0.4551 - val_loss: 1.3338 - val_accuracy: 0.4833\n",
            "Epoch 2/30\n",
            "1330/1330 [==============================] - 48s 36ms/step - loss: 1.2687 - accuracy: 0.5100 - val_loss: 1.2940 - val_accuracy: 0.4991\n",
            "Epoch 3/30\n",
            "1330/1330 [==============================] - 49s 37ms/step - loss: 1.1975 - accuracy: 0.5341 - val_loss: 1.2797 - val_accuracy: 0.5039\n",
            "Epoch 4/30\n",
            "1330/1330 [==============================] - 49s 37ms/step - loss: 1.1268 - accuracy: 0.5667 - val_loss: 1.2857 - val_accuracy: 0.5148\n",
            "Epoch 5/30\n",
            "1330/1330 [==============================] - 49s 37ms/step - loss: 1.0649 - accuracy: 0.5922 - val_loss: 1.2778 - val_accuracy: 0.5217\n",
            "Epoch 6/30\n",
            "1330/1330 [==============================] - 49s 37ms/step - loss: 1.0010 - accuracy: 0.6161 - val_loss: 1.3126 - val_accuracy: 0.5084\n",
            "Epoch 7/30\n",
            "1330/1330 [==============================] - 49s 37ms/step - loss: 0.9406 - accuracy: 0.6410 - val_loss: 1.3370 - val_accuracy: 0.5230\n",
            "Epoch 8/30\n",
            "1330/1330 [==============================] - 49s 37ms/step - loss: 0.8768 - accuracy: 0.6651 - val_loss: 1.3743 - val_accuracy: 0.5137\n",
            "Epoch 9/30\n",
            "1330/1330 [==============================] - 49s 37ms/step - loss: 0.8139 - accuracy: 0.6901 - val_loss: 1.4287 - val_accuracy: 0.5139\n",
            "Epoch 10/30\n",
            "1330/1330 [==============================] - 49s 37ms/step - loss: 0.7609 - accuracy: 0.7124 - val_loss: 1.4816 - val_accuracy: 0.5131\n",
            "Epoch 11/30\n",
            "1330/1330 [==============================] - 49s 37ms/step - loss: 0.7044 - accuracy: 0.7334 - val_loss: 1.5116 - val_accuracy: 0.5127\n",
            "Epoch 12/30\n",
            "1330/1330 [==============================] - 49s 37ms/step - loss: 0.6533 - accuracy: 0.7543 - val_loss: 1.6282 - val_accuracy: 0.5062\n",
            "Epoch 13/30\n",
            "1330/1330 [==============================] - 49s 37ms/step - loss: 0.6098 - accuracy: 0.7699 - val_loss: 1.7184 - val_accuracy: 0.4982\n",
            "Epoch 14/30\n",
            "1330/1330 [==============================] - 47s 36ms/step - loss: 0.5598 - accuracy: 0.7901 - val_loss: 1.7638 - val_accuracy: 0.5087\n",
            "Epoch 15/30\n",
            "1330/1330 [==============================] - 49s 37ms/step - loss: 0.5197 - accuracy: 0.8063 - val_loss: 1.8079 - val_accuracy: 0.5087\n",
            "Epoch 16/30\n",
            "1330/1330 [==============================] - 47s 36ms/step - loss: 0.4771 - accuracy: 0.8221 - val_loss: 1.9351 - val_accuracy: 0.5069\n",
            "Epoch 17/30\n",
            "1330/1330 [==============================] - 49s 37ms/step - loss: 0.4427 - accuracy: 0.8330 - val_loss: 2.0860 - val_accuracy: 0.5081\n",
            "Epoch 18/30\n",
            "1330/1330 [==============================] - 49s 37ms/step - loss: 0.4139 - accuracy: 0.8473 - val_loss: 2.1804 - val_accuracy: 0.4994\n",
            "Epoch 19/30\n",
            "1330/1330 [==============================] - 47s 36ms/step - loss: 0.3799 - accuracy: 0.8606 - val_loss: 2.2992 - val_accuracy: 0.4916\n",
            "Epoch 20/30\n",
            "1330/1330 [==============================] - 49s 37ms/step - loss: 0.3586 - accuracy: 0.8687 - val_loss: 2.2793 - val_accuracy: 0.5002\n",
            "Epoch 21/30\n",
            "1330/1330 [==============================] - 49s 37ms/step - loss: 0.3264 - accuracy: 0.8803 - val_loss: 2.4072 - val_accuracy: 0.5101\n",
            "Epoch 22/30\n",
            "1330/1330 [==============================] - 47s 36ms/step - loss: 0.3030 - accuracy: 0.8898 - val_loss: 2.5016 - val_accuracy: 0.5011\n",
            "Epoch 23/30\n",
            "1330/1330 [==============================] - 49s 37ms/step - loss: 0.2961 - accuracy: 0.8904 - val_loss: 2.5915 - val_accuracy: 0.5007\n",
            "Epoch 24/30\n",
            "1330/1330 [==============================] - 49s 37ms/step - loss: 0.2715 - accuracy: 0.9018 - val_loss: 2.7145 - val_accuracy: 0.5084\n",
            "Epoch 25/30\n",
            "1330/1330 [==============================] - 49s 37ms/step - loss: 0.2495 - accuracy: 0.9085 - val_loss: 2.7690 - val_accuracy: 0.5039\n",
            "Epoch 26/30\n",
            "1330/1330 [==============================] - 49s 37ms/step - loss: 0.2328 - accuracy: 0.9145 - val_loss: 2.8997 - val_accuracy: 0.5081\n",
            "Epoch 27/30\n",
            "1330/1330 [==============================] - 49s 37ms/step - loss: 0.2148 - accuracy: 0.9221 - val_loss: 3.0176 - val_accuracy: 0.5003\n",
            "Epoch 28/30\n",
            "1330/1330 [==============================] - 49s 37ms/step - loss: 0.2142 - accuracy: 0.9224 - val_loss: 3.1114 - val_accuracy: 0.4979\n",
            "Epoch 29/30\n",
            "1330/1330 [==============================] - 49s 37ms/step - loss: 0.1988 - accuracy: 0.9281 - val_loss: 3.1883 - val_accuracy: 0.5077\n",
            "Epoch 30/30\n",
            "1330/1330 [==============================] - 47s 36ms/step - loss: 0.1789 - accuracy: 0.9364 - val_loss: 3.3130 - val_accuracy: 0.4955\n"
          ]
        }
      ]
    },
    {
      "cell_type": "markdown",
      "source": [],
      "metadata": {
        "id": "O7YV3_DPos13"
      }
    },
    {
      "cell_type": "markdown",
      "metadata": {
        "id": "ggs5y5NcgcAH"
      },
      "source": [
        "# Evaluating The Model"
      ]
    },
    {
      "cell_type": "code",
      "metadata": {
        "colab": {
          "base_uri": "https://localhost:8080/",
          "height": 472
        },
        "id": "vAjGo1SvePCE",
        "outputId": "32a6f17d-9e83-4a48-a136-ef29cadb1583"
      },
      "source": [
        "fig1 = plt.gcf()\n",
        "plt.plot(history.history['accuracy'])\n",
        "plt.plot(history.history['val_accuracy'])\n",
        "plt.axis(ymin=0.4,ymax=1)\n",
        "plt.grid()\n",
        "plt.title('Model Accuracy')\n",
        "plt.ylabel('Accuracy')\n",
        "plt.xlabel('Epochs')\n",
        "plt.legend(['train', 'validation'])\n",
        "plt.show()"
      ],
      "execution_count": 13,
      "outputs": [
        {
          "output_type": "display_data",
          "data": {
            "text/plain": [
              "<Figure size 640x480 with 1 Axes>"
            ],
            "image/png": "[encoded data removed]"
          },
          "metadata": {}
        }
      ]
    },
    {
      "cell_type": "code",
      "metadata": {
        "colab": {
          "base_uri": "https://localhost:8080/",
          "height": 472
        },
        "id": "rEUy8LNOeCVF",
        "outputId": "4eadca24-6234-4bb2-958d-f860d2c7fb52"
      },
      "source": [
        "plt.plot(history.history['loss'])\n",
        "plt.plot(history.history['val_loss'])\n",
        "plt.grid()\n",
        "plt.title('Model Loss')\n",
        "plt.ylabel('Loss')\n",
        "plt.xlabel('Epochs')\n",
        "plt.legend(['train', 'validation'])\n",
        "plt.show()"
      ],
      "execution_count": 14,
      "outputs": [
        {
          "output_type": "display_data",
          "data": {
            "text/plain": [
              "<Figure size 640x480 with 1 Axes>"
            ],
            "image/png": "[encoded data removed]"
          },
          "metadata": {}
        }
      ]
    },
    {
      "cell_type": "code",
      "source": [
        "resnet_model.evaluate(X_test, y_test)"
      ],
      "metadata": {
        "colab": {
          "base_uri": "https://localhost:8080/"
        },
        "id": "cJT_2rFluFgJ",
        "outputId": "57047147-f8d7-4cbc-ef8f-d5b988ed2ab4"
      },
      "execution_count": 15,
      "outputs": [
        {
          "output_type": "stream",
          "name": "stdout",
          "text": [
            "208/208 [==============================] - 6s 31ms/step - loss: 4.5720 - accuracy: 0.4017\n"
          ]
        },
        {
          "output_type": "execute_result",
          "data": {
            "text/plain": [
              "[4.572047233581543, 0.40168496966362]"
            ]
          },
          "metadata": {},
          "execution_count": 15
        }
      ]
    },
    {
      "cell_type": "code",
      "metadata": {
        "id": "SLbvPRHXgHGO"
      },
      "source": [],
      "execution_count": null,
      "outputs": []
    }
  ]
}