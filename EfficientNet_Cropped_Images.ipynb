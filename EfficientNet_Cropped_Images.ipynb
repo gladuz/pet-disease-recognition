{
  "cells": [
    {
      "cell_type": "code",
      "execution_count": 1,
      "metadata": {
        "id": "0YBEz670Nnmv"
      },
      "outputs": [],
      "source": [
        "import matplotlib.pyplot as plt\n",
        "import numpy as np\n",
        "import os\n",
        "import PIL\n",
        "import tensorflow as tf\n",
        "from tensorflow import keras\n",
        "from tensorflow.keras import layers\n",
        "from tensorflow.python.keras.layers import Dense, Flatten\n",
        "from tensorflow.keras.models import Sequential\n",
        "from tensorflow.keras.optimizers import Adam\n",
        "import pickle"
      ]
    },
    {
      "cell_type": "markdown",
      "metadata": {
        "id": "Ir0q0GyfgmSI"
      },
      "source": [
        "# Preparing The Data"
      ]
    },
    {
      "cell_type": "code",
      "execution_count": 2,
      "metadata": {
        "colab": {
          "base_uri": "https://localhost:8080/"
        },
        "id": "3RsArhJdnt6h",
        "outputId": "50f32439-3ff1-422e-db5f-59817145ad11"
      },
      "outputs": [
        {
          "output_type": "stream",
          "name": "stdout",
          "text": [
            "Mounted at /content/drive\n"
          ]
        }
      ],
      "source": [
        "from google.colab import drive\n",
        "drive.mount('/content/drive')"
      ]
    },
    {
      "cell_type": "code",
      "execution_count": 3,
      "metadata": {
        "id": "w4tSrQZvT7P2"
      },
      "outputs": [],
      "source": [
        "pickle_in = open(\"/content/drive/MyDrive/petskindata/X_train_cropped.pickle\",\"rb\")\n",
        "X=pickle.load(pickle_in)\n",
        "pickle_in = open(\"/content/drive/MyDrive/petskindata/y_train_cropped.pickle\",\"rb\")\n",
        "y=pickle.load(pickle_in)\n",
        "pickle_in = open(\"/content/drive/MyDrive/petskindata/X_test_cropped.pickle\",\"rb\")\n",
        "X_test=pickle.load(pickle_in)\n",
        "pickle_in = open(\"/content/drive/MyDrive/petskindata/y_test_cropped.pickle\",\"rb\")\n",
        "y_test=pickle.load(pickle_in)"
      ]
    },
    {
      "cell_type": "code",
      "execution_count": 4,
      "metadata": {
        "colab": {
          "base_uri": "https://localhost:8080/"
        },
        "id": "BPVwlNe_mjPg",
        "outputId": "9a90c5dd-cad4-495f-fd9a-8d42de02fd90"
      },
      "outputs": [
        {
          "output_type": "stream",
          "name": "stdout",
          "text": [
            "[[[123 118 112]\n",
            "  [137 132 128]\n",
            "  [124 118 113]\n",
            "  ...\n",
            "  [137  96  68]\n",
            "  [136  95  67]\n",
            "  [135  92  66]]\n",
            "\n",
            " [[122 114 107]\n",
            "  [138 130 124]\n",
            "  [109 100  94]\n",
            "  ...\n",
            "  [131  91  65]\n",
            "  [127  87  60]\n",
            "  [127  85  60]]\n",
            "\n",
            " [[125 115 107]\n",
            "  [150 140 132]\n",
            "  [115 103  96]\n",
            "  ...\n",
            "  [117  79  55]\n",
            "  [115  77  51]\n",
            "  [118  78  53]]\n",
            "\n",
            " ...\n",
            "\n",
            " [[152 123 107]\n",
            "  [101  72  56]\n",
            "  [158 129 111]\n",
            "  ...\n",
            "  [131 118 109]\n",
            "  [115 103  92]\n",
            "  [137 128 118]]\n",
            "\n",
            " [[155 127 112]\n",
            "  [131 102  86]\n",
            "  [125  96  78]\n",
            "  ...\n",
            "  [ 92  80  71]\n",
            "  [109  99  90]\n",
            "  [154 145 137]]\n",
            "\n",
            " [[134 106  91]\n",
            "  [136 107  91]\n",
            "  [119  90  72]\n",
            "  ...\n",
            "  [106  95  88]\n",
            "  [123 112 105]\n",
            "  [158 150 143]]] 2 [[[203 175 164]\n",
            "  [208 178 168]\n",
            "  [216 185 175]\n",
            "  ...\n",
            "  [216 191 188]\n",
            "  [213 192 189]\n",
            "  [208 187 184]]\n",
            "\n",
            " [[202 171 161]\n",
            "  [208 177 167]\n",
            "  [212 180 171]\n",
            "  ...\n",
            "  [204 179 175]\n",
            "  [202 181 176]\n",
            "  [208 187 182]]\n",
            "\n",
            " [[204 171 162]\n",
            "  [207 174 166]\n",
            "  [215 182 173]\n",
            "  ...\n",
            "  [209 185 179]\n",
            "  [209 189 182]\n",
            "  [216 196 189]]\n",
            "\n",
            " ...\n",
            "\n",
            " [[196 161 155]\n",
            "  [199 165 159]\n",
            "  [201 168 161]\n",
            "  ...\n",
            "  [208 166 158]\n",
            "  [197 157 149]\n",
            "  [185 145 137]]\n",
            "\n",
            " [[202 165 159]\n",
            "  [204 168 162]\n",
            "  [206 170 164]\n",
            "  ...\n",
            "  [174 133 125]\n",
            "  [168 128 120]\n",
            "  [155 115 107]]\n",
            "\n",
            " [[185 148 142]\n",
            "  [197 158 153]\n",
            "  [189 150 145]\n",
            "  ...\n",
            "  [167 127 119]\n",
            "  [178 138 130]\n",
            "  [180 141 133]]] 1\n"
          ]
        }
      ],
      "source": [
        "print(X[0], y[0], X_test[0], y_test[0])"
      ]
    },
    {
      "cell_type": "code",
      "execution_count": 5,
      "metadata": {
        "id": "lamrhoOQUqB0"
      },
      "outputs": [],
      "source": [
        "class_names = [\"A1_구진_플라크\",\"A2_비듬_각질_상피성잔고리\",\"A3_태선화_과다색소침착\",\"A4_농포_여드름\",\"A5_미란_궤양\",\"A6_결절_종괴\"]"
      ]
    },
    {
      "cell_type": "code",
      "execution_count": 6,
      "metadata": {
        "colab": {
          "base_uri": "https://localhost:8080/",
          "height": 35
        },
        "id": "XKS_FpePrRSi",
        "outputId": "c1d66e0f-a7a1-44c7-c12e-fa8e6e0feff3"
      },
      "outputs": [
        {
          "output_type": "execute_result",
          "data": {
            "text/plain": [
              "'A3_태선화_과다색소침착'"
            ],
            "application/vnd.google.colaboratory.intrinsic+json": {
              "type": "string"
            }
          },
          "metadata": {},
          "execution_count": 6
        }
      ],
      "source": [
        "class_names[y[0]]"
      ]
    },
    {
      "cell_type": "code",
      "execution_count": 7,
      "metadata": {
        "id": "IletQGOQr_T9"
      },
      "outputs": [],
      "source": [
        "y=np.array(y)\n",
        "y_test=np.array(y_test)"
      ]
    },
    {
      "cell_type": "code",
      "execution_count": null,
      "metadata": {
        "id": "3zhkyQue1tit"
      },
      "outputs": [],
      "source": []
    },
    {
      "cell_type": "markdown",
      "metadata": {
        "id": "jK5tHnEpggbu"
      },
      "source": [
        "# Training The Model\n"
      ]
    },
    {
      "cell_type": "code",
      "execution_count": 8,
      "metadata": {
        "colab": {
          "base_uri": "https://localhost:8080/"
        },
        "id": "0AzdT8-Ya_lO",
        "outputId": "80058d51-7078-40ee-a22a-9da1d4ae6f8e"
      },
      "outputs": [
        {
          "output_type": "stream",
          "name": "stdout",
          "text": [
            "Downloading data from https://storage.googleapis.com/keras-applications/efficientnetb1_notop.h5\n",
            "27018416/27018416 [==============================] - 1s 0us/step\n"
          ]
        }
      ],
      "source": [
        "efficientnet_model = Sequential()\n",
        "\n",
        "pretrained_model= tf.keras.applications.EfficientNetB1(include_top=False,\n",
        "                   input_shape=(100,100,3),\n",
        "                   pooling='avg',classes=6,\n",
        "                   weights='imagenet')\n",
        "for layer in pretrained_model.layers:\n",
        "        layer.trainable=False\n",
        "\n",
        "efficientnet_model.add(pretrained_model)\n",
        "efficientnet_model.add(Flatten())\n",
        "efficientnet_model.add(Dense(512, activation='relu'))\n",
        "efficientnet_model.add(Dense(6, activation='softmax'))"
      ]
    },
    {
      "cell_type": "code",
      "execution_count": 9,
      "metadata": {
        "colab": {
          "base_uri": "https://localhost:8080/"
        },
        "id": "zAgSK9fAbp6y",
        "outputId": "22d1324c-927d-4a0b-d1df-245e8e001a0f"
      },
      "outputs": [
        {
          "output_type": "stream",
          "name": "stdout",
          "text": [
            "Model: \"sequential\"\n",
            "_________________________________________________________________\n",
            " Layer (type)                Output Shape              Param #   \n",
            "=================================================================\n",
            " efficientnetb1 (Functional)  (None, 1280)             6575239   \n",
            "                                                                 \n",
            " module_wrapper (ModuleWrapp  (None, 1280)             0         \n",
            " er)                                                             \n",
            "                                                                 \n",
            " module_wrapper_1 (ModuleWra  (None, 512)              655872    \n",
            " pper)                                                           \n",
            "                                                                 \n",
            " module_wrapper_2 (ModuleWra  (None, 6)                3078      \n",
            " pper)                                                           \n",
            "                                                                 \n",
            "=================================================================\n",
            "Total params: 7,234,189\n",
            "Trainable params: 658,950\n",
            "Non-trainable params: 6,575,239\n",
            "_________________________________________________________________\n"
          ]
        }
      ],
      "source": [
        "efficientnet_model.summary()"
      ]
    },
    {
      "cell_type": "code",
      "execution_count": 13,
      "metadata": {
        "id": "vPCJsk68dm40"
      },
      "outputs": [],
      "source": [
        "efficientnet_model.compile(optimizer=Adam(),loss='sparse_categorical_crossentropy',metrics=['accuracy'])"
      ]
    },
    {
      "cell_type": "code",
      "execution_count": 14,
      "metadata": {
        "colab": {
          "base_uri": "https://localhost:8080/"
        },
        "id": "wXEYsGTaeFi4",
        "outputId": "2a721c40-b218-48e7-89a1-dbb8d2170ed6"
      },
      "outputs": [
        {
          "output_type": "stream",
          "name": "stdout",
          "text": [
            "Epoch 1/30\n",
            "1330/1330 [==============================] - 54s 32ms/step - loss: 1.1179 - accuracy: 0.5686 - val_loss: 1.2952 - val_accuracy: 0.5075\n",
            "Epoch 2/30\n",
            "1330/1330 [==============================] - 41s 31ms/step - loss: 1.0363 - accuracy: 0.6005 - val_loss: 1.2897 - val_accuracy: 0.5181\n",
            "Epoch 3/30\n",
            "1330/1330 [==============================] - 39s 29ms/step - loss: 0.9595 - accuracy: 0.6310 - val_loss: 1.3299 - val_accuracy: 0.5168\n",
            "Epoch 4/30\n",
            "1330/1330 [==============================] - 38s 28ms/step - loss: 0.8949 - accuracy: 0.6609 - val_loss: 1.3485 - val_accuracy: 0.5179\n",
            "Epoch 5/30\n",
            "1330/1330 [==============================] - 41s 31ms/step - loss: 0.8343 - accuracy: 0.6838 - val_loss: 1.3915 - val_accuracy: 0.5186\n",
            "Epoch 6/30\n",
            "1330/1330 [==============================] - 41s 31ms/step - loss: 0.7756 - accuracy: 0.7077 - val_loss: 1.4282 - val_accuracy: 0.5175\n",
            "Epoch 7/30\n",
            "1330/1330 [==============================] - 41s 31ms/step - loss: 0.7309 - accuracy: 0.7235 - val_loss: 1.4727 - val_accuracy: 0.5134\n",
            "Epoch 8/30\n",
            "1330/1330 [==============================] - 41s 31ms/step - loss: 0.6889 - accuracy: 0.7405 - val_loss: 1.4972 - val_accuracy: 0.5213\n",
            "Epoch 9/30\n",
            "1330/1330 [==============================] - 41s 31ms/step - loss: 0.6474 - accuracy: 0.7580 - val_loss: 1.5832 - val_accuracy: 0.5217\n",
            "Epoch 10/30\n",
            "1330/1330 [==============================] - 42s 32ms/step - loss: 0.6203 - accuracy: 0.7681 - val_loss: 1.5823 - val_accuracy: 0.5245\n",
            "Epoch 11/30\n",
            "1330/1330 [==============================] - 39s 29ms/step - loss: 0.5904 - accuracy: 0.7830 - val_loss: 1.6626 - val_accuracy: 0.5219\n",
            "Epoch 12/30\n",
            "1330/1330 [==============================] - 38s 29ms/step - loss: 0.5561 - accuracy: 0.7955 - val_loss: 1.6907 - val_accuracy: 0.5160\n",
            "Epoch 13/30\n",
            "1330/1330 [==============================] - 41s 31ms/step - loss: 0.5324 - accuracy: 0.8051 - val_loss: 1.7200 - val_accuracy: 0.5194\n",
            "Epoch 14/30\n",
            "1330/1330 [==============================] - 41s 31ms/step - loss: 0.5120 - accuracy: 0.8125 - val_loss: 1.7915 - val_accuracy: 0.5137\n",
            "Epoch 15/30\n",
            "1330/1330 [==============================] - 38s 29ms/step - loss: 0.4947 - accuracy: 0.8188 - val_loss: 1.8604 - val_accuracy: 0.5160\n",
            "Epoch 16/30\n",
            "1330/1330 [==============================] - 41s 31ms/step - loss: 0.4807 - accuracy: 0.8258 - val_loss: 1.8580 - val_accuracy: 0.5259\n",
            "Epoch 17/30\n",
            "1330/1330 [==============================] - 38s 29ms/step - loss: 0.4678 - accuracy: 0.8294 - val_loss: 1.8790 - val_accuracy: 0.5193\n",
            "Epoch 18/30\n",
            "1330/1330 [==============================] - 38s 29ms/step - loss: 0.4547 - accuracy: 0.8350 - val_loss: 1.9139 - val_accuracy: 0.5188\n",
            "Epoch 19/30\n",
            "1330/1330 [==============================] - 41s 31ms/step - loss: 0.4356 - accuracy: 0.8419 - val_loss: 1.9976 - val_accuracy: 0.5236\n",
            "Epoch 20/30\n",
            "1330/1330 [==============================] - 38s 29ms/step - loss: 0.4300 - accuracy: 0.8456 - val_loss: 2.0795 - val_accuracy: 0.5187\n",
            "Epoch 21/30\n",
            "1330/1330 [==============================] - 39s 29ms/step - loss: 0.4118 - accuracy: 0.8516 - val_loss: 2.0356 - val_accuracy: 0.5268\n",
            "Epoch 22/30\n",
            "1330/1330 [==============================] - 42s 31ms/step - loss: 0.4014 - accuracy: 0.8578 - val_loss: 2.0861 - val_accuracy: 0.5181\n",
            "Epoch 23/30\n",
            "1330/1330 [==============================] - 38s 28ms/step - loss: 0.3987 - accuracy: 0.8569 - val_loss: 2.0591 - val_accuracy: 0.5222\n",
            "Epoch 24/30\n",
            "1330/1330 [==============================] - 41s 31ms/step - loss: 0.3787 - accuracy: 0.8659 - val_loss: 2.1382 - val_accuracy: 0.5175\n",
            "Epoch 25/30\n",
            "1330/1330 [==============================] - 41s 31ms/step - loss: 0.3738 - accuracy: 0.8679 - val_loss: 2.2183 - val_accuracy: 0.5247\n",
            "Epoch 26/30\n",
            "1330/1330 [==============================] - 38s 29ms/step - loss: 0.3601 - accuracy: 0.8727 - val_loss: 2.1817 - val_accuracy: 0.5164\n",
            "Epoch 27/30\n",
            "1330/1330 [==============================] - 39s 29ms/step - loss: 0.3643 - accuracy: 0.8699 - val_loss: 2.2332 - val_accuracy: 0.5143\n",
            "Epoch 28/30\n",
            "1330/1330 [==============================] - 41s 31ms/step - loss: 0.3528 - accuracy: 0.8768 - val_loss: 2.2376 - val_accuracy: 0.5235\n",
            "Epoch 29/30\n",
            "1330/1330 [==============================] - 41s 31ms/step - loss: 0.3467 - accuracy: 0.8775 - val_loss: 2.2768 - val_accuracy: 0.5169\n",
            "Epoch 30/30\n",
            "1330/1330 [==============================] - 38s 28ms/step - loss: 0.3423 - accuracy: 0.8806 - val_loss: 2.2889 - val_accuracy: 0.5186\n"
          ]
        }
      ],
      "source": [
        "epochs=30\n",
        "history = efficientnet_model.fit(X,y, epochs=epochs, validation_split=0.2)"
      ]
    },
    {
      "cell_type": "markdown",
      "metadata": {
        "id": "O7YV3_DPos13"
      },
      "source": []
    },
    {
      "cell_type": "markdown",
      "metadata": {
        "id": "ggs5y5NcgcAH"
      },
      "source": [
        "# Evaluating The Model"
      ]
    },
    {
      "cell_type": "code",
      "execution_count": 15,
      "metadata": {
        "colab": {
          "base_uri": "https://localhost:8080/",
          "height": 472
        },
        "id": "vAjGo1SvePCE",
        "outputId": "a23f08d2-7f1f-43d1-cd5a-d6a5a8ba495e"
      },
      "outputs": [
        {
          "output_type": "display_data",
          "data": {
            "text/plain": [
              "<Figure size 640x480 with 1 Axes>"
            ],
            "image/png": "[encoded data removed]"
          },
          "metadata": {}
        }
      ],
      "source": [
        "fig1 = plt.gcf()\n",
        "plt.plot(history.history['accuracy'])\n",
        "plt.plot(history.history['val_accuracy'])\n",
        "plt.axis(ymin=0.4,ymax=1)\n",
        "plt.grid()\n",
        "plt.title('Model Accuracy')\n",
        "plt.ylabel('Accuracy')\n",
        "plt.xlabel('Epochs')\n",
        "plt.legend(['train', 'validation'])\n",
        "plt.show()"
      ]
    },
    {
      "cell_type": "code",
      "execution_count": 16,
      "metadata": {
        "colab": {
          "base_uri": "https://localhost:8080/",
          "height": 472
        },
        "id": "rEUy8LNOeCVF",
        "outputId": "12350fd7-e6e0-44a5-f5e4-57852d7e9c10"
      },
      "outputs": [
        {
          "output_type": "display_data",
          "data": {
            "text/plain": [
              "<Figure size 640x480 with 1 Axes>"
            ],
            "image/png": "[encoded data removed]"
          },
          "metadata": {}
        }
      ],
      "source": [
        "plt.plot(history.history['loss'])\n",
        "plt.plot(history.history['val_loss'])\n",
        "plt.grid()\n",
        "plt.title('Model Loss')\n",
        "plt.ylabel('Loss')\n",
        "plt.xlabel('Epochs')\n",
        "plt.legend(['train', 'validation'])\n",
        "plt.show()"
      ]
    },
    {
      "cell_type": "code",
      "execution_count": 17,
      "metadata": {
        "id": "cJT_2rFluFgJ",
        "colab": {
          "base_uri": "https://localhost:8080/"
        },
        "outputId": "c872c2d2-8ad1-45fe-de7e-88f7608ad8ee"
      },
      "outputs": [
        {
          "output_type": "stream",
          "name": "stdout",
          "text": [
            "208/208 [==============================] - 6s 27ms/step - loss: 3.0760 - accuracy: 0.4199\n"
          ]
        },
        {
          "output_type": "execute_result",
          "data": {
            "text/plain": [
              "[3.0759780406951904, 0.4198886752128601]"
            ]
          },
          "metadata": {},
          "execution_count": 17
        }
      ],
      "source": [
        "efficientnet_model.evaluate(X_test, y_test)"
      ]
    }
  ],
  "metadata": {
    "accelerator": "GPU",
    "colab": {
      "provenance": []
    },
    "gpuClass": "standard",
    "kernelspec": {
      "display_name": "Python 3",
      "name": "python3"
    },
    "language_info": {
      "name": "python"
    }
  },
  "nbformat": 4,
  "nbformat_minor": 0
}