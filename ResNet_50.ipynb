{
  "nbformat": 4,
  "nbformat_minor": 0,
  "metadata": {
    "accelerator": "GPU",
    "colab": {
      "provenance": []
    },
    "kernelspec": {
      "display_name": "Python 3",
      "name": "python3"
    },
    "language_info": {
      "name": "python"
    },
    "gpuClass": "standard"
  },
  "cells": [
    {
      "cell_type": "code",
      "metadata": {
        "id": "0YBEz670Nnmv"
      },
      "source": [
        "import matplotlib.pyplot as plt\n",
        "import numpy as np\n",
        "import os\n",
        "import PIL\n",
        "import tensorflow as tf\n",
        "from tensorflow import keras\n",
        "from tensorflow.keras import layers\n",
        "from tensorflow.python.keras.layers import Dense, Flatten\n",
        "from tensorflow.keras.models import Sequential\n",
        "from tensorflow.keras.optimizers import Adam\n",
        "import pickle"
      ],
      "execution_count": null,
      "outputs": []
    },
    {
      "cell_type": "markdown",
      "metadata": {
        "id": "Ir0q0GyfgmSI"
      },
      "source": [
        "# Preparing The Data"
      ]
    },
    {
      "cell_type": "code",
      "source": [
        "from google.colab import drive\n",
        "drive.mount('/content/drive')"
      ],
      "metadata": {
        "colab": {
          "base_uri": "https://localhost:8080/"
        },
        "id": "3RsArhJdnt6h",
        "outputId": "7b472473-87dd-4788-aa24-54873b9dc6b7"
      },
      "execution_count": null,
      "outputs": [
        {
          "output_type": "stream",
          "name": "stdout",
          "text": [
            "Drive already mounted at /content/drive; to attempt to forcibly remount, call drive.mount(\"/content/drive\", force_remount=True).\n"
          ]
        }
      ]
    },
    {
      "cell_type": "code",
      "source": [
        "pickle_in = open(\"/content/drive/MyDrive/petskindata/X.pickle\",\"rb\")\n",
        "X=pickle.load(pickle_in)\n",
        "pickle_in = open(\"/content/drive/MyDrive/petskindata/y.pickle\",\"rb\")\n",
        "y=pickle.load(pickle_in)\n",
        "pickle_in = open(\"/content/drive/MyDrive/petskindata/X_test.pickle\",\"rb\")\n",
        "X_test=pickle.load(pickle_in)\n",
        "pickle_in = open(\"/content/drive/MyDrive/petskindata/y_test.pickle\",\"rb\")\n",
        "y_test=pickle.load(pickle_in)"
      ],
      "metadata": {
        "id": "w4tSrQZvT7P2"
      },
      "execution_count": null,
      "outputs": []
    },
    {
      "cell_type": "code",
      "source": [
        "print(X[0], y[0], X_test[0], y_test[0])"
      ],
      "metadata": {
        "colab": {
          "base_uri": "https://localhost:8080/"
        },
        "id": "BPVwlNe_mjPg",
        "outputId": "21f2a462-8700-4e92-a5ee-fce69eaa7503"
      },
      "execution_count": null,
      "outputs": [
        {
          "output_type": "stream",
          "name": "stdout",
          "text": [
            "[[[166 159 141]\n",
            "  [162 154 137]\n",
            "  [161 150 133]\n",
            "  ...\n",
            "  [168 169 157]\n",
            "  [162 172 161]\n",
            "  [142 162 160]]\n",
            "\n",
            " [[172 168 156]\n",
            "  [165 160 149]\n",
            "  [175 170 161]\n",
            "  ...\n",
            "  [145 141 131]\n",
            "  [124 125 110]\n",
            "  [101 115 109]]\n",
            "\n",
            " [[183 185 174]\n",
            "  [187 188 180]\n",
            "  [185 184 177]\n",
            "  ...\n",
            "  [131 123 114]\n",
            "  [130 115 108]\n",
            "  [ 90  80  78]]\n",
            "\n",
            " ...\n",
            "\n",
            " [[186 177 172]\n",
            "  [174 164 162]\n",
            "  [176 166 166]\n",
            "  ...\n",
            "  [ 15  32  39]\n",
            "  [ 14  31  38]\n",
            "  [  6  16  25]]\n",
            "\n",
            " [[186 176 167]\n",
            "  [177 168 162]\n",
            "  [178 163 165]\n",
            "  ...\n",
            "  [ 22  37  44]\n",
            "  [ 22  37  44]\n",
            "  [  5  20  27]]\n",
            "\n",
            " [[183 170 163]\n",
            "  [159 144 138]\n",
            "  [160 149 149]\n",
            "  ...\n",
            "  [ 40  53  61]\n",
            "  [ 21  36  43]\n",
            "  [ 22  37  44]]] 3 [[[146 136 126]\n",
            "  [151 143 138]\n",
            "  [180 178 173]\n",
            "  ...\n",
            "  [205 238 240]\n",
            "  [197 224 233]\n",
            "  [193 223 233]]\n",
            "\n",
            " [[147 137 127]\n",
            "  [140 130 124]\n",
            "  [172 171 166]\n",
            "  ...\n",
            "  [230 254 254]\n",
            "  [202 232 241]\n",
            "  [198 228 238]]\n",
            "\n",
            " [[146 136 126]\n",
            "  [146 135 129]\n",
            "  [175 174 169]\n",
            "  ...\n",
            "  [202 226 232]\n",
            "  [200 227 238]\n",
            "  [198 225 236]]\n",
            "\n",
            " ...\n",
            "\n",
            " [[101 119 119]\n",
            "  [ 96 115 121]\n",
            "  [108 128 129]\n",
            "  ...\n",
            "  [132 153 154]\n",
            "  [ 79  97 101]\n",
            "  [ 86  99 105]]\n",
            "\n",
            " [[ 58  68  70]\n",
            "  [113 125 131]\n",
            "  [ 55  68  73]\n",
            "  ...\n",
            "  [109 128 130]\n",
            "  [ 83  98  98]\n",
            "  [136 160 162]]\n",
            "\n",
            " [[114 134 135]\n",
            "  [ 68  84  84]\n",
            "  [ 63  77  82]\n",
            "  ...\n",
            "  [ 71  90  94]\n",
            "  [127 145 145]\n",
            "  [117 135 135]]] 1\n"
          ]
        }
      ]
    },
    {
      "cell_type": "code",
      "source": [
        "class_names = [\"A1_구진_플라크\",\"A2_비듬_각질_상피성잔고리\",\"A3_태선화_과다색소침착\",\"A4_농포_여드름\",\"A5_미란_궤양\",\"A6_결절_종괴\"]"
      ],
      "metadata": {
        "id": "lamrhoOQUqB0"
      },
      "execution_count": null,
      "outputs": []
    },
    {
      "cell_type": "code",
      "source": [
        "class_names[y[0]]"
      ],
      "metadata": {
        "colab": {
          "base_uri": "https://localhost:8080/",
          "height": 35
        },
        "id": "XKS_FpePrRSi",
        "outputId": "e7e04d2a-12c7-4184-ecd2-f6d25eedfb23"
      },
      "execution_count": null,
      "outputs": [
        {
          "output_type": "execute_result",
          "data": {
            "text/plain": [
              "'A4_농포_여드름'"
            ],
            "application/vnd.google.colaboratory.intrinsic+json": {
              "type": "string"
            }
          },
          "metadata": {},
          "execution_count": 5
        }
      ]
    },
    {
      "cell_type": "code",
      "source": [
        "y=np.array(y)\n",
        "y_test=np.array(y_test)"
      ],
      "metadata": {
        "id": "IletQGOQr_T9"
      },
      "execution_count": null,
      "outputs": []
    },
    {
      "cell_type": "code",
      "metadata": {
        "id": "3zhkyQue1tit"
      },
      "source": [],
      "execution_count": null,
      "outputs": []
    },
    {
      "cell_type": "markdown",
      "metadata": {
        "id": "jK5tHnEpggbu"
      },
      "source": [
        "# Training The Model\n"
      ]
    },
    {
      "cell_type": "code",
      "metadata": {
        "id": "0AzdT8-Ya_lO",
        "colab": {
          "base_uri": "https://localhost:8080/"
        },
        "outputId": "485d0420-6277-4365-9290-01fb36211321"
      },
      "source": [
        "resnet_model = Sequential()\n",
        "\n",
        "pretrained_model= tf.keras.applications.ResNet50(include_top=False,\n",
        "                   input_shape=(100,100,3),\n",
        "                   pooling='avg',classes=6,\n",
        "                   weights='imagenet')\n",
        "for layer in pretrained_model.layers:\n",
        "        layer.trainable=False\n",
        "\n",
        "resnet_model.add(pretrained_model)\n",
        "resnet_model.add(Flatten())\n",
        "resnet_model.add(Dense(512, activation='relu'))\n",
        "resnet_model.add(Dense(6, activation='softmax'))"
      ],
      "execution_count": null,
      "outputs": [
        {
          "output_type": "stream",
          "name": "stdout",
          "text": [
            "Downloading data from https://storage.googleapis.com/tensorflow/keras-applications/resnet/resnet50_weights_tf_dim_ordering_tf_kernels_notop.h5\n",
            "94765736/94765736 [==============================] - 5s 0us/step\n"
          ]
        }
      ]
    },
    {
      "cell_type": "code",
      "metadata": {
        "colab": {
          "base_uri": "https://localhost:8080/"
        },
        "id": "zAgSK9fAbp6y",
        "outputId": "ef523e72-c449-4242-e9cd-b0c673ec173c"
      },
      "source": [
        "resnet_model.summary()"
      ],
      "execution_count": null,
      "outputs": [
        {
          "output_type": "stream",
          "name": "stdout",
          "text": [
            "Model: \"sequential\"\n",
            "_________________________________________________________________\n",
            " Layer (type)                Output Shape              Param #   \n",
            "=================================================================\n",
            " resnet50 (Functional)       (None, 2048)              23587712  \n",
            "                                                                 \n",
            " module_wrapper (ModuleWrapp  (None, 2048)             0         \n",
            " er)                                                             \n",
            "                                                                 \n",
            " module_wrapper_1 (ModuleWra  (None, 512)              1049088   \n",
            " pper)                                                           \n",
            "                                                                 \n",
            " module_wrapper_2 (ModuleWra  (None, 6)                3078      \n",
            " pper)                                                           \n",
            "                                                                 \n",
            "=================================================================\n",
            "Total params: 24,639,878\n",
            "Trainable params: 1,052,166\n",
            "Non-trainable params: 23,587,712\n",
            "_________________________________________________________________\n"
          ]
        }
      ]
    },
    {
      "cell_type": "code",
      "metadata": {
        "id": "vPCJsk68dm40",
        "colab": {
          "base_uri": "https://localhost:8080/"
        },
        "outputId": "a8a839cb-b2ed-4487-c970-09304e5c499c"
      },
      "source": [
        "resnet_model.compile(optimizer=Adam(lr=0.001),loss='sparse_categorical_crossentropy',metrics=['accuracy'])"
      ],
      "execution_count": null,
      "outputs": [
        {
          "output_type": "stream",
          "name": "stderr",
          "text": [
            "/usr/local/lib/python3.8/dist-packages/keras/optimizers/optimizer_v2/adam.py:110: UserWarning: The `lr` argument is deprecated, use `learning_rate` instead.\n",
            "  super(Adam, self).__init__(name, **kwargs)\n"
          ]
        }
      ]
    },
    {
      "cell_type": "code",
      "metadata": {
        "colab": {
          "base_uri": "https://localhost:8080/"
        },
        "id": "wXEYsGTaeFi4",
        "outputId": "b18d9944-172a-4f77-cacc-9a8785796b9f"
      },
      "source": [
        "epochs=30\n",
        "history = resnet_model.fit(X,y, epochs=epochs, validation_split=0.2)"
      ],
      "execution_count": null,
      "outputs": [
        {
          "output_type": "stream",
          "name": "stdout",
          "text": [
            "Epoch 1/30\n",
            "1330/1330 [==============================] - 53s 39ms/step - loss: 0.8174 - accuracy: 0.6837 - val_loss: 1.5905 - val_accuracy: 0.4709\n",
            "Epoch 2/30\n",
            "1330/1330 [==============================] - 52s 39ms/step - loss: 0.7630 - accuracy: 0.7052 - val_loss: 1.6799 - val_accuracy: 0.4640\n",
            "Epoch 3/30\n",
            "1330/1330 [==============================] - 52s 39ms/step - loss: 0.7149 - accuracy: 0.7250 - val_loss: 1.7208 - val_accuracy: 0.4634\n",
            "Epoch 4/30\n",
            "1330/1330 [==============================] - 51s 39ms/step - loss: 0.6739 - accuracy: 0.7416 - val_loss: 1.7894 - val_accuracy: 0.4643\n",
            "Epoch 5/30\n",
            "1330/1330 [==============================] - 51s 39ms/step - loss: 0.6311 - accuracy: 0.7590 - val_loss: 1.8632 - val_accuracy: 0.4680\n",
            "Epoch 6/30\n",
            "1330/1330 [==============================] - 51s 39ms/step - loss: 0.5906 - accuracy: 0.7735 - val_loss: 1.9124 - val_accuracy: 0.4663\n",
            "Epoch 7/30\n",
            "1330/1330 [==============================] - 51s 39ms/step - loss: 0.5582 - accuracy: 0.7847 - val_loss: 1.9313 - val_accuracy: 0.4678\n",
            "Epoch 8/30\n",
            "1330/1330 [==============================] - 51s 39ms/step - loss: 0.5291 - accuracy: 0.7994 - val_loss: 2.0569 - val_accuracy: 0.4692\n",
            "Epoch 9/30\n",
            "1330/1330 [==============================] - 51s 39ms/step - loss: 0.5013 - accuracy: 0.8089 - val_loss: 2.1620 - val_accuracy: 0.4612\n",
            "Epoch 10/30\n",
            "1330/1330 [==============================] - 51s 39ms/step - loss: 0.4711 - accuracy: 0.8200 - val_loss: 2.2284 - val_accuracy: 0.4597\n",
            "Epoch 11/30\n",
            "1330/1330 [==============================] - 51s 39ms/step - loss: 0.4483 - accuracy: 0.8284 - val_loss: 2.2889 - val_accuracy: 0.4559\n",
            "Epoch 12/30\n",
            "1330/1330 [==============================] - 52s 39ms/step - loss: 0.4218 - accuracy: 0.8381 - val_loss: 2.4667 - val_accuracy: 0.4588\n",
            "Epoch 13/30\n",
            "1330/1330 [==============================] - 51s 39ms/step - loss: 0.4012 - accuracy: 0.8503 - val_loss: 2.5155 - val_accuracy: 0.4645\n",
            "Epoch 14/30\n",
            "1330/1330 [==============================] - 51s 39ms/step - loss: 0.3839 - accuracy: 0.8553 - val_loss: 2.6097 - val_accuracy: 0.4608\n",
            "Epoch 15/30\n",
            "1330/1330 [==============================] - 51s 39ms/step - loss: 0.3632 - accuracy: 0.8647 - val_loss: 2.5875 - val_accuracy: 0.4558\n",
            "Epoch 16/30\n",
            "1330/1330 [==============================] - 52s 39ms/step - loss: 0.3515 - accuracy: 0.8666 - val_loss: 2.7645 - val_accuracy: 0.4592\n",
            "Epoch 17/30\n",
            "1330/1330 [==============================] - 51s 39ms/step - loss: 0.3334 - accuracy: 0.8746 - val_loss: 2.8208 - val_accuracy: 0.4586\n",
            "Epoch 18/30\n",
            "1330/1330 [==============================] - 51s 39ms/step - loss: 0.3205 - accuracy: 0.8809 - val_loss: 2.8626 - val_accuracy: 0.4598\n",
            "Epoch 19/30\n",
            "1330/1330 [==============================] - 51s 39ms/step - loss: 0.3040 - accuracy: 0.8875 - val_loss: 3.0110 - val_accuracy: 0.4550\n",
            "Epoch 20/30\n",
            "1330/1330 [==============================] - 51s 39ms/step - loss: 0.2966 - accuracy: 0.8892 - val_loss: 3.0588 - val_accuracy: 0.4607\n",
            "Epoch 21/30\n",
            "1330/1330 [==============================] - 52s 39ms/step - loss: 0.2780 - accuracy: 0.8979 - val_loss: 3.0684 - val_accuracy: 0.4616\n",
            "Epoch 22/30\n",
            "1330/1330 [==============================] - 51s 39ms/step - loss: 0.2788 - accuracy: 0.8981 - val_loss: 3.3684 - val_accuracy: 0.4550\n",
            "Epoch 23/30\n",
            "1330/1330 [==============================] - 51s 39ms/step - loss: 0.2641 - accuracy: 0.9034 - val_loss: 3.3188 - val_accuracy: 0.4642\n",
            "Epoch 24/30\n",
            "1330/1330 [==============================] - 51s 39ms/step - loss: 0.2518 - accuracy: 0.9084 - val_loss: 3.3776 - val_accuracy: 0.4502\n",
            "Epoch 25/30\n",
            "1330/1330 [==============================] - 51s 39ms/step - loss: 0.2405 - accuracy: 0.9125 - val_loss: 3.4368 - val_accuracy: 0.4612\n",
            "Epoch 26/30\n",
            "1330/1330 [==============================] - 52s 39ms/step - loss: 0.2370 - accuracy: 0.9148 - val_loss: 3.5304 - val_accuracy: 0.4579\n",
            "Epoch 27/30\n",
            "1330/1330 [==============================] - 51s 39ms/step - loss: 0.2317 - accuracy: 0.9167 - val_loss: 3.6572 - val_accuracy: 0.4567\n",
            "Epoch 28/30\n",
            "1330/1330 [==============================] - 51s 39ms/step - loss: 0.2228 - accuracy: 0.9200 - val_loss: 3.6091 - val_accuracy: 0.4593\n",
            "Epoch 29/30\n",
            "1330/1330 [==============================] - 51s 39ms/step - loss: 0.2161 - accuracy: 0.9221 - val_loss: 3.7279 - val_accuracy: 0.4486\n",
            "Epoch 30/30\n",
            "1330/1330 [==============================] - 52s 39ms/step - loss: 0.2121 - accuracy: 0.9237 - val_loss: 3.8981 - val_accuracy: 0.4616\n"
          ]
        }
      ]
    },
    {
      "cell_type": "markdown",
      "source": [],
      "metadata": {
        "id": "O7YV3_DPos13"
      }
    },
    {
      "cell_type": "markdown",
      "metadata": {
        "id": "ggs5y5NcgcAH"
      },
      "source": [
        "# Evaluating The Model"
      ]
    },
    {
      "cell_type": "code",
      "metadata": {
        "colab": {
          "base_uri": "https://localhost:8080/",
          "height": 295
        },
        "id": "vAjGo1SvePCE",
        "outputId": "d036f00c-92f6-42ba-fab6-a6df5fca9018"
      },
      "source": [
        "fig1 = plt.gcf()\n",
        "plt.plot(history.history['accuracy'])\n",
        "plt.plot(history.history['val_accuracy'])\n",
        "plt.axis(ymin=0.4,ymax=1)\n",
        "plt.grid()\n",
        "plt.title('Model Accuracy')\n",
        "plt.ylabel('Accuracy')\n",
        "plt.xlabel('Epochs')\n",
        "plt.legend(['train', 'validation'])\n",
        "plt.show()"
      ],
      "execution_count": null,
      "outputs": [
        {
          "output_type": "display_data",
          "data": {
            "text/plain": [
              "<Figure size 432x288 with 1 Axes>"
            ],
            "image/png": "[encoded data removed]"
          },
          "metadata": {
            "needs_background": "light"
          }
        }
      ]
    },
    {
      "cell_type": "code",
      "metadata": {
        "colab": {
          "base_uri": "https://localhost:8080/",
          "height": 295
        },
        "id": "rEUy8LNOeCVF",
        "outputId": "eb152f5a-a2a9-47e1-afdc-3ccd1e846c2e"
      },
      "source": [
        "plt.plot(history.history['loss'])\n",
        "plt.plot(history.history['val_loss'])\n",
        "plt.grid()\n",
        "plt.title('Model Loss')\n",
        "plt.ylabel('Loss')\n",
        "plt.xlabel('Epochs')\n",
        "plt.legend(['train', 'validation'])\n",
        "plt.show()"
      ],
      "execution_count": null,
      "outputs": [
        {
          "output_type": "display_data",
          "data": {
            "text/plain": [
              "<Figure size 432x288 with 1 Axes>"
            ],
            "image/png": "[encoded data removed]"
          },
          "metadata": {
            "needs_background": "light"
          }
        }
      ]
    },
    {
      "cell_type": "code",
      "source": [
        "resnet_model.evaluate(X_test, y_test)"
      ],
      "metadata": {
        "colab": {
          "base_uri": "https://localhost:8080/"
        },
        "id": "cJT_2rFluFgJ",
        "outputId": "4c3e3799-9592-4a81-ded2-6db23be5ae58"
      },
      "execution_count": null,
      "outputs": [
        {
          "output_type": "stream",
          "name": "stdout",
          "text": [
            "208/208 [==============================] - 6s 31ms/step - loss: 4.7169 - accuracy: 0.3949\n"
          ]
        },
        {
          "output_type": "execute_result",
          "data": {
            "text/plain": [
              "[4.716928005218506, 0.39491498470306396]"
            ]
          },
          "metadata": {},
          "execution_count": 21
        }
      ]
    },
    {
      "cell_type": "code",
      "metadata": {
        "id": "SLbvPRHXgHGO"
      },
      "source": [],
      "execution_count": null,
      "outputs": []
    }
  ]
}