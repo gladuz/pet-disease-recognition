{
  "cells": [
    {
      "cell_type": "code",
      "execution_count": 1,
      "metadata": {
        "id": "0YBEz670Nnmv"
      },
      "outputs": [],
      "source": [
        "import matplotlib.pyplot as plt\n",
        "import numpy as np\n",
        "import os\n",
        "import PIL\n",
        "import tensorflow as tf\n",
        "from tensorflow import keras\n",
        "from tensorflow.keras import layers\n",
        "from tensorflow.python.keras.layers import Dense, Flatten\n",
        "from tensorflow.keras.models import Sequential\n",
        "from tensorflow.keras.optimizers import Adam\n",
        "import pickle"
      ]
    },
    {
      "cell_type": "markdown",
      "metadata": {
        "id": "Ir0q0GyfgmSI"
      },
      "source": [
        "# Preparing The Data"
      ]
    },
    {
      "cell_type": "code",
      "execution_count": 2,
      "metadata": {
        "colab": {
          "base_uri": "https://localhost:8080/"
        },
        "id": "3RsArhJdnt6h",
        "outputId": "ca8d36ca-db48-4e62-ee04-0dcd111b68da"
      },
      "outputs": [
        {
          "output_type": "stream",
          "name": "stdout",
          "text": [
            "Mounted at /content/drive\n"
          ]
        }
      ],
      "source": [
        "from google.colab import drive\n",
        "drive.mount('/content/drive')"
      ]
    },
    {
      "cell_type": "code",
      "execution_count": 3,
      "metadata": {
        "id": "w4tSrQZvT7P2"
      },
      "outputs": [],
      "source": [
        "pickle_in = open(\"/content/drive/MyDrive/petskindata/X_train_cropped.pickle\",\"rb\")\n",
        "X=pickle.load(pickle_in)\n",
        "pickle_in = open(\"/content/drive/MyDrive/petskindata/y_train_cropped.pickle\",\"rb\")\n",
        "y=pickle.load(pickle_in)\n",
        "pickle_in = open(\"/content/drive/MyDrive/petskindata/X_test_cropped.pickle\",\"rb\")\n",
        "X_test=pickle.load(pickle_in)\n",
        "pickle_in = open(\"/content/drive/MyDrive/petskindata/y_test_cropped.pickle\",\"rb\")\n",
        "y_test=pickle.load(pickle_in)"
      ]
    },
    {
      "cell_type": "code",
      "execution_count": 4,
      "metadata": {
        "colab": {
          "base_uri": "https://localhost:8080/"
        },
        "id": "BPVwlNe_mjPg",
        "outputId": "f405dd9d-1b60-48d8-b5c0-f5d1dd2bc8eb"
      },
      "outputs": [
        {
          "output_type": "stream",
          "name": "stdout",
          "text": [
            "[[[123 118 112]\n",
            "  [137 132 128]\n",
            "  [124 118 113]\n",
            "  ...\n",
            "  [137  96  68]\n",
            "  [136  95  67]\n",
            "  [135  92  66]]\n",
            "\n",
            " [[122 114 107]\n",
            "  [138 130 124]\n",
            "  [109 100  94]\n",
            "  ...\n",
            "  [131  91  65]\n",
            "  [127  87  60]\n",
            "  [127  85  60]]\n",
            "\n",
            " [[125 115 107]\n",
            "  [150 140 132]\n",
            "  [115 103  96]\n",
            "  ...\n",
            "  [117  79  55]\n",
            "  [115  77  51]\n",
            "  [118  78  53]]\n",
            "\n",
            " ...\n",
            "\n",
            " [[152 123 107]\n",
            "  [101  72  56]\n",
            "  [158 129 111]\n",
            "  ...\n",
            "  [131 118 109]\n",
            "  [115 103  92]\n",
            "  [137 128 118]]\n",
            "\n",
            " [[155 127 112]\n",
            "  [131 102  86]\n",
            "  [125  96  78]\n",
            "  ...\n",
            "  [ 92  80  71]\n",
            "  [109  99  90]\n",
            "  [154 145 137]]\n",
            "\n",
            " [[134 106  91]\n",
            "  [136 107  91]\n",
            "  [119  90  72]\n",
            "  ...\n",
            "  [106  95  88]\n",
            "  [123 112 105]\n",
            "  [158 150 143]]] 2 [[[203 175 164]\n",
            "  [208 178 168]\n",
            "  [216 185 175]\n",
            "  ...\n",
            "  [216 191 188]\n",
            "  [213 192 189]\n",
            "  [208 187 184]]\n",
            "\n",
            " [[202 171 161]\n",
            "  [208 177 167]\n",
            "  [212 180 171]\n",
            "  ...\n",
            "  [204 179 175]\n",
            "  [202 181 176]\n",
            "  [208 187 182]]\n",
            "\n",
            " [[204 171 162]\n",
            "  [207 174 166]\n",
            "  [215 182 173]\n",
            "  ...\n",
            "  [209 185 179]\n",
            "  [209 189 182]\n",
            "  [216 196 189]]\n",
            "\n",
            " ...\n",
            "\n",
            " [[196 161 155]\n",
            "  [199 165 159]\n",
            "  [201 168 161]\n",
            "  ...\n",
            "  [208 166 158]\n",
            "  [197 157 149]\n",
            "  [185 145 137]]\n",
            "\n",
            " [[202 165 159]\n",
            "  [204 168 162]\n",
            "  [206 170 164]\n",
            "  ...\n",
            "  [174 133 125]\n",
            "  [168 128 120]\n",
            "  [155 115 107]]\n",
            "\n",
            " [[185 148 142]\n",
            "  [197 158 153]\n",
            "  [189 150 145]\n",
            "  ...\n",
            "  [167 127 119]\n",
            "  [178 138 130]\n",
            "  [180 141 133]]] 1\n"
          ]
        }
      ],
      "source": [
        "print(X[0], y[0], X_test[0], y_test[0])"
      ]
    },
    {
      "cell_type": "code",
      "execution_count": 5,
      "metadata": {
        "id": "lamrhoOQUqB0"
      },
      "outputs": [],
      "source": [
        "class_names = [\"A1_구진_플라크\",\"A2_비듬_각질_상피성잔고리\",\"A3_태선화_과다색소침착\",\"A4_농포_여드름\",\"A5_미란_궤양\",\"A6_결절_종괴\"]"
      ]
    },
    {
      "cell_type": "code",
      "execution_count": 6,
      "metadata": {
        "colab": {
          "base_uri": "https://localhost:8080/",
          "height": 35
        },
        "id": "XKS_FpePrRSi",
        "outputId": "df57d2bc-c989-4684-e44c-2d3c8d9e249c"
      },
      "outputs": [
        {
          "output_type": "execute_result",
          "data": {
            "text/plain": [
              "'A3_태선화_과다색소침착'"
            ],
            "application/vnd.google.colaboratory.intrinsic+json": {
              "type": "string"
            }
          },
          "metadata": {},
          "execution_count": 6
        }
      ],
      "source": [
        "class_names[y[0]]"
      ]
    },
    {
      "cell_type": "code",
      "execution_count": 7,
      "metadata": {
        "id": "IletQGOQr_T9"
      },
      "outputs": [],
      "source": [
        "y=np.array(y)\n",
        "y_test=np.array(y_test)"
      ]
    },
    {
      "cell_type": "code",
      "execution_count": 7,
      "metadata": {
        "id": "3zhkyQue1tit"
      },
      "outputs": [],
      "source": []
    },
    {
      "cell_type": "markdown",
      "metadata": {
        "id": "jK5tHnEpggbu"
      },
      "source": [
        "# Training The Model\n"
      ]
    },
    {
      "cell_type": "code",
      "execution_count": 8,
      "metadata": {
        "colab": {
          "base_uri": "https://localhost:8080/"
        },
        "id": "0AzdT8-Ya_lO",
        "outputId": "08127190-a01f-4a35-dd40-b38f1ac0bf73"
      },
      "outputs": [
        {
          "output_type": "stream",
          "name": "stdout",
          "text": [
            "Downloading data from https://storage.googleapis.com/tensorflow/keras-applications/vgg16/vgg16_weights_tf_dim_ordering_tf_kernels_notop.h5\n",
            "58889256/58889256 [==============================] - 0s 0us/step\n"
          ]
        }
      ],
      "source": [
        "vgg_model = Sequential()\n",
        "\n",
        "pretrained_model= tf.keras.applications.VGG16(include_top=False,\n",
        "                   input_shape=(100,100,3),\n",
        "                   pooling='avg',classes=6,\n",
        "                   weights='imagenet')\n",
        "for layer in pretrained_model.layers:\n",
        "        layer.trainable=False\n",
        "\n",
        "vgg_model.add(pretrained_model)\n",
        "vgg_model.add(Flatten())\n",
        "vgg_model.add(Dense(512, activation='relu'))\n",
        "vgg_model.add(Dense(6, activation='softmax'))"
      ]
    },
    {
      "cell_type": "code",
      "execution_count": 9,
      "metadata": {
        "colab": {
          "base_uri": "https://localhost:8080/"
        },
        "id": "zAgSK9fAbp6y",
        "outputId": "f9787868-e39b-477a-bedc-8eac0736189b"
      },
      "outputs": [
        {
          "output_type": "stream",
          "name": "stdout",
          "text": [
            "Model: \"sequential\"\n",
            "_________________________________________________________________\n",
            " Layer (type)                Output Shape              Param #   \n",
            "=================================================================\n",
            " vgg16 (Functional)          (None, 512)               14714688  \n",
            "                                                                 \n",
            " module_wrapper (ModuleWrapp  (None, 512)              0         \n",
            " er)                                                             \n",
            "                                                                 \n",
            " module_wrapper_1 (ModuleWra  (None, 512)              262656    \n",
            " pper)                                                           \n",
            "                                                                 \n",
            " module_wrapper_2 (ModuleWra  (None, 6)                3078      \n",
            " pper)                                                           \n",
            "                                                                 \n",
            "=================================================================\n",
            "Total params: 14,980,422\n",
            "Trainable params: 265,734\n",
            "Non-trainable params: 14,714,688\n",
            "_________________________________________________________________\n"
          ]
        }
      ],
      "source": [
        "vgg_model.summary()"
      ]
    },
    {
      "cell_type": "code",
      "execution_count": 10,
      "metadata": {
        "id": "vPCJsk68dm40"
      },
      "outputs": [],
      "source": [
        "vgg_model.compile(optimizer=Adam(),loss='sparse_categorical_crossentropy',metrics=['accuracy'])"
      ]
    },
    {
      "cell_type": "code",
      "execution_count": 11,
      "metadata": {
        "colab": {
          "base_uri": "https://localhost:8080/"
        },
        "id": "wXEYsGTaeFi4",
        "outputId": "78e14bbe-378f-40fc-d8d9-ce4c9b51aa56"
      },
      "outputs": [
        {
          "output_type": "stream",
          "name": "stdout",
          "text": [
            "Epoch 1/30\n",
            "1330/1330 [==============================] - 64s 40ms/step - loss: 1.6819 - accuracy: 0.4082 - val_loss: 1.4453 - val_accuracy: 0.4328\n",
            "Epoch 2/30\n",
            "1330/1330 [==============================] - 54s 41ms/step - loss: 1.3568 - accuracy: 0.4713 - val_loss: 1.4080 - val_accuracy: 0.4448\n",
            "Epoch 3/30\n",
            "1330/1330 [==============================] - 54s 41ms/step - loss: 1.2932 - accuracy: 0.4949 - val_loss: 1.4220 - val_accuracy: 0.4512\n",
            "Epoch 4/30\n",
            "1330/1330 [==============================] - 64s 48ms/step - loss: 1.2302 - accuracy: 0.5209 - val_loss: 1.4058 - val_accuracy: 0.4606\n",
            "Epoch 5/30\n",
            "1330/1330 [==============================] - 55s 41ms/step - loss: 1.1647 - accuracy: 0.5475 - val_loss: 1.4373 - val_accuracy: 0.4635\n",
            "Epoch 6/30\n",
            "1330/1330 [==============================] - 65s 49ms/step - loss: 1.0976 - accuracy: 0.5773 - val_loss: 1.4700 - val_accuracy: 0.4621\n",
            "Epoch 7/30\n",
            "1330/1330 [==============================] - 65s 49ms/step - loss: 1.0280 - accuracy: 0.6032 - val_loss: 1.5400 - val_accuracy: 0.4619\n",
            "Epoch 8/30\n",
            "1330/1330 [==============================] - 65s 49ms/step - loss: 0.9611 - accuracy: 0.6304 - val_loss: 1.6438 - val_accuracy: 0.4612\n",
            "Epoch 9/30\n",
            "1330/1330 [==============================] - 55s 41ms/step - loss: 0.9059 - accuracy: 0.6518 - val_loss: 1.6674 - val_accuracy: 0.4649\n",
            "Epoch 10/30\n",
            "1330/1330 [==============================] - 54s 41ms/step - loss: 0.8448 - accuracy: 0.6769 - val_loss: 1.7753 - val_accuracy: 0.4631\n",
            "Epoch 11/30\n",
            "1330/1330 [==============================] - 64s 48ms/step - loss: 0.7936 - accuracy: 0.6983 - val_loss: 1.8396 - val_accuracy: 0.4640\n",
            "Epoch 12/30\n",
            "1330/1330 [==============================] - 55s 41ms/step - loss: 0.7418 - accuracy: 0.7179 - val_loss: 1.9497 - val_accuracy: 0.4561\n",
            "Epoch 13/30\n",
            "1330/1330 [==============================] - 54s 41ms/step - loss: 0.7056 - accuracy: 0.7317 - val_loss: 2.0436 - val_accuracy: 0.4558\n",
            "Epoch 14/30\n",
            "1330/1330 [==============================] - 54s 41ms/step - loss: 0.6685 - accuracy: 0.7473 - val_loss: 2.1623 - val_accuracy: 0.4524\n",
            "Epoch 15/30\n",
            "1330/1330 [==============================] - 64s 48ms/step - loss: 0.6255 - accuracy: 0.7650 - val_loss: 2.2930 - val_accuracy: 0.4571\n",
            "Epoch 16/30\n",
            "1330/1330 [==============================] - 55s 41ms/step - loss: 0.5977 - accuracy: 0.7731 - val_loss: 2.4124 - val_accuracy: 0.4558\n",
            "Epoch 17/30\n",
            "1330/1330 [==============================] - 64s 48ms/step - loss: 0.5641 - accuracy: 0.7851 - val_loss: 2.5306 - val_accuracy: 0.4592\n",
            "Epoch 18/30\n",
            "1330/1330 [==============================] - 55s 41ms/step - loss: 0.5338 - accuracy: 0.7985 - val_loss: 2.6153 - val_accuracy: 0.4493\n",
            "Epoch 19/30\n",
            "1330/1330 [==============================] - 64s 48ms/step - loss: 0.5192 - accuracy: 0.8064 - val_loss: 2.7360 - val_accuracy: 0.4525\n",
            "Epoch 20/30\n",
            "1330/1330 [==============================] - 65s 49ms/step - loss: 0.4924 - accuracy: 0.8149 - val_loss: 2.8632 - val_accuracy: 0.4513\n",
            "Epoch 21/30\n",
            "1330/1330 [==============================] - 65s 49ms/step - loss: 0.4710 - accuracy: 0.8230 - val_loss: 2.9779 - val_accuracy: 0.4457\n",
            "Epoch 22/30\n",
            "1330/1330 [==============================] - 55s 41ms/step - loss: 0.4446 - accuracy: 0.8340 - val_loss: 3.1204 - val_accuracy: 0.4561\n",
            "Epoch 23/30\n",
            "1330/1330 [==============================] - 64s 48ms/step - loss: 0.4222 - accuracy: 0.8431 - val_loss: 3.3262 - val_accuracy: 0.4526\n",
            "Epoch 24/30\n",
            "1330/1330 [==============================] - 65s 49ms/step - loss: 0.4107 - accuracy: 0.8466 - val_loss: 3.3585 - val_accuracy: 0.4442\n",
            "Epoch 25/30\n",
            "1330/1330 [==============================] - 65s 49ms/step - loss: 0.4098 - accuracy: 0.8487 - val_loss: 3.4636 - val_accuracy: 0.4533\n",
            "Epoch 26/30\n",
            "1330/1330 [==============================] - 65s 49ms/step - loss: 0.3771 - accuracy: 0.8590 - val_loss: 3.6551 - val_accuracy: 0.4506\n",
            "Epoch 27/30\n",
            "1330/1330 [==============================] - 65s 49ms/step - loss: 0.3592 - accuracy: 0.8687 - val_loss: 3.7994 - val_accuracy: 0.4477\n",
            "Epoch 28/30\n",
            "1330/1330 [==============================] - 65s 49ms/step - loss: 0.3480 - accuracy: 0.8712 - val_loss: 3.9133 - val_accuracy: 0.4497\n",
            "Epoch 29/30\n",
            "1330/1330 [==============================] - 55s 41ms/step - loss: 0.3414 - accuracy: 0.8755 - val_loss: 4.0032 - val_accuracy: 0.4435\n",
            "Epoch 30/30\n",
            "1330/1330 [==============================] - 64s 48ms/step - loss: 0.3343 - accuracy: 0.8800 - val_loss: 4.1022 - val_accuracy: 0.4554\n"
          ]
        }
      ],
      "source": [
        "epochs=30\n",
        "history = vgg_model.fit(X,y, epochs=epochs, validation_split=0.2)"
      ]
    },
    {
      "cell_type": "markdown",
      "metadata": {
        "id": "O7YV3_DPos13"
      },
      "source": []
    },
    {
      "cell_type": "markdown",
      "metadata": {
        "id": "ggs5y5NcgcAH"
      },
      "source": [
        "# Evaluating The Model"
      ]
    },
    {
      "cell_type": "code",
      "execution_count": 12,
      "metadata": {
        "id": "vAjGo1SvePCE",
        "colab": {
          "base_uri": "https://localhost:8080/",
          "height": 472
        },
        "outputId": "64666cee-c877-4ab1-ecc0-87419b4b5802"
      },
      "outputs": [
        {
          "output_type": "display_data",
          "data": {
            "text/plain": [
              "<Figure size 640x480 with 1 Axes>"
            ],
            "image/png": "[encoded data removed]"
          },
          "metadata": {}
        }
      ],
      "source": [
        "fig1 = plt.gcf()\n",
        "plt.plot(history.history['accuracy'])\n",
        "plt.plot(history.history['val_accuracy'])\n",
        "plt.axis(ymin=0.4,ymax=1)\n",
        "plt.grid()\n",
        "plt.title('Model Accuracy')\n",
        "plt.ylabel('Accuracy')\n",
        "plt.xlabel('Epochs')\n",
        "plt.legend(['train', 'validation'])\n",
        "plt.show()"
      ]
    },
    {
      "cell_type": "code",
      "execution_count": 13,
      "metadata": {
        "id": "rEUy8LNOeCVF",
        "colab": {
          "base_uri": "https://localhost:8080/",
          "height": 472
        },
        "outputId": "9a631da7-8beb-4d93-cf76-acc0f96426a8"
      },
      "outputs": [
        {
          "output_type": "display_data",
          "data": {
            "text/plain": [
              "<Figure size 640x480 with 1 Axes>"
            ],
            "image/png": "[encoded data removed]"
          },
          "metadata": {}
        }
      ],
      "source": [
        "plt.plot(history.history['loss'])\n",
        "plt.plot(history.history['val_loss'])\n",
        "plt.grid()\n",
        "plt.title('Model Loss')\n",
        "plt.ylabel('Loss')\n",
        "plt.xlabel('Epochs')\n",
        "plt.legend(['train', 'validation'])\n",
        "plt.show()"
      ]
    },
    {
      "cell_type": "code",
      "execution_count": 14,
      "metadata": {
        "id": "cJT_2rFluFgJ",
        "colab": {
          "base_uri": "https://localhost:8080/"
        },
        "outputId": "4f0deafb-b67f-464e-bd17-0860e654b657"
      },
      "outputs": [
        {
          "output_type": "stream",
          "name": "stdout",
          "text": [
            "208/208 [==============================] - 8s 37ms/step - loss: 5.2083 - accuracy: 0.3608\n"
          ]
        },
        {
          "output_type": "execute_result",
          "data": {
            "text/plain": [
              "[5.2083234786987305, 0.3607642650604248]"
            ]
          },
          "metadata": {},
          "execution_count": 14
        }
      ],
      "source": [
        "vgg_model.evaluate(X_test, y_test)"
      ]
    }
  ],
  "metadata": {
    "accelerator": "GPU",
    "colab": {
      "provenance": []
    },
    "gpuClass": "standard",
    "kernelspec": {
      "display_name": "Python 3",
      "name": "python3"
    },
    "language_info": {
      "name": "python"
    }
  },
  "nbformat": 4,
  "nbformat_minor": 0
}