{
 "cells": [
  {
   "cell_type": "code",
   "execution_count": 1,
   "metadata": {},
   "outputs": [],
   "source": [
    "import numpy as np\n",
    "import torch\n",
    "import matplotlib.pyplot as plt"
   ]
  },
  {
   "cell_type": "code",
   "execution_count": 18,
   "metadata": {},
   "outputs": [],
   "source": [
    "foregrounds = np.array(torch.load(\"foreground_count.pt\"))\n",
    "image_size = (288, 512)\n",
    "num_pixels = 288 * 512"
   ]
  },
  {
   "cell_type": "code",
   "execution_count": 22,
   "metadata": {},
   "outputs": [
    {
     "data": {
      "image/png": "[encoded data removed]",
      "text/plain": [
       "<Figure size 432x288 with 1 Axes>"
      ]
     },
     "metadata": {
      "needs_background": "light"
     },
     "output_type": "display_data"
    }
   ],
   "source": [
    "plt.hist(foregrounds[foregrounds/num_pixels<0.1]/num_pixels)\n",
    "plt.show()"
   ]
  },
  {
   "cell_type": "code",
   "execution_count": 16,
   "metadata": {},
   "outputs": [
    {
     "name": "stdout",
     "output_type": "stream",
     "text": [
      "Ratio of images with 50.0% of foreground is: 0.9996196782925793\n",
      "Ratio of images with 10.0% of foreground is: 0.9743394706816707\n",
      "Ratio of images with 5.0% of foreground is: 0.9322579923488221\n",
      "Ratio of images with 1.0% of foreground is: 0.6493433857580706\n",
      "Ratio of images with 0.5% of foreground is: 0.45656502382603636\n",
      "Ratio of images with 0.1% of foreground is: 0.10711649030179646\n"
     ]
    }
   ],
   "source": [
    "for threshold in [0.5, 0.1, 0.05, 0.01, 0.005, 0.001]:\n",
    "    percentage = len(foregrounds[foregrounds/num_pixels < threshold]) / len(foregrounds)\n",
    "    print(f\"Ratio of images with less than {threshold*100}% of foreground is: {percentage}\")"
   ]
  }
 ],
 "metadata": {
  "kernelspec": {
   "display_name": "pytorch19",
   "language": "python",
   "name": "python3"
  },
  "language_info": {
   "codemirror_mode": {
    "name": "ipython",
    "version": 3
   },
   "file_extension": ".py",
   "mimetype": "text/x-python",
   "name": "python",
   "nbconvert_exporter": "python",
   "pygments_lexer": "ipython3",
   "version": "3.8.11"
  },
  "orig_nbformat": 4
 },
 "nbformat": 4,
 "nbformat_minor": 2
}
