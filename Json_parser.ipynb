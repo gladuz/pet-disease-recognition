{
 "cells": [
  {
   "cell_type": "code",
   "execution_count": 1,
   "id": "0b6dca38",
   "metadata": {},
   "outputs": [],
   "source": [
    "import os\n",
    "import glob\n",
    "import json\n",
    "from pathlib import Path\n",
    "import pandas as pd"
   ]
  },
  {
   "cell_type": "code",
   "execution_count": 2,
   "id": "f176bba9",
   "metadata": {},
   "outputs": [],
   "source": [
    "def parse_animal_json_files(animal_folder, animal_name):\n",
    "    \"\"\"\n",
    "    animal folder - folder name up to 유증상\n",
    "    \"\"\"\n",
    "    lesion_folders = os.listdir(animal_folder)\n",
    "    dataset_list = []\n",
    "    for lesion_folder in lesion_folders:\n",
    "        lesion_folder_path = os.path.join(animal_folder, lesion_folder)\n",
    "        filenames = glob.glob(os.path.join(lesion_folder_path, \"*.json\"))\n",
    "        for filename in filenames:\n",
    "            data_row = parse_json(filename)\n",
    "            data_row[\"lesion_folder_name\"] = lesion_folder\n",
    "            data_row[\"animal\"] = animal_name\n",
    "            dataset_list.append(data_row)\n",
    "    return dataset_list"
   ]
  },
  {
   "cell_type": "code",
   "execution_count": 3,
   "id": "84825bcb",
   "metadata": {},
   "outputs": [],
   "source": [
    "def parse_json(full_path):\n",
    "    json_obj = json.load(open(full_path, encoding=\"utf-8\"))\n",
    "\n",
    "    json_meta = json_obj[\"metaData\"]\n",
    "    parsed_data = {}\n",
    "    parsed_data[\"breed\"] = json_meta[\"breed\"]\n",
    "    parsed_data[\"age\"] = json_meta[\"age\"]\n",
    "    parsed_data[\"gender\"] = json_meta[\"gender\"]\n",
    "    parsed_data[\"region\"] = json_meta[\"region\"]\n",
    "    parsed_data[\"species\"] = json_meta[\"species\"]\n",
    "    parsed_data[\"lesions\"] = json_meta[\"lesions\"]\n",
    "    parsed_data[\"identifier\"] = json_meta[\"identifier\"]\n",
    "    \n",
    "    #Get the path of the image\n",
    "    parsed_data[\"image_name\"] = os.path.basename(full_path).split(\".\")[0]+\".jpg\"\n",
    "    \n",
    "    #Convert the json filepath to image path with folder/a.json -> folder/a.jpg\n",
    "    parsed_data[\"image_full_path\"] = os.path.join(Path(full_path).parent, parsed_data[\"image_name\"])\n",
    "    \n",
    "    #Convert the path to the unix style path for compatibility\n",
    "    parsed_data[\"image_full_path\"] = parsed_data[\"image_full_path\"].replace(\"\\\\\", \"/\")\n",
    "    \n",
    "    parsed_data[\"annotations\"] = json_obj[\"labelingInfo\"]\n",
    "    #parsed_data[\"box\"] = json_obj[\"labelingInfo\"][1][\"box\"][\"location\"]\n",
    "    return parsed_data"
   ]
  },
  {
   "cell_type": "code",
   "execution_count": 4,
   "id": "2ad0c422",
   "metadata": {
    "scrolled": false
   },
   "outputs": [],
   "source": [
    "#folder names are written as up to 유증상\n",
    "dogs_folder = \"data/152.반려동물 피부질환 데이터/01.데이터/1.Training/2_라벨링데이터/TL01/반려견/피부/일반카메라/유증상/\"\n",
    "cats_folder = \"data/152.반려동물 피부질환 데이터/01.데이터/1.Training/2_라벨링데이터/TL01/반려묘/피부/일반카메라/유증상\"\n",
    "\n",
    "parsed_dogs_data = parse_animal_json_files(dogs_folder, \"반려견\")\n",
    "parsed_cats_data = parse_animal_json_files(cats_folder, \"반려묘\")\n",
    "full_data = parsed_dogs_data + parsed_cats_data\n",
    "\n",
    "df = pd.DataFrame(full_data)\n",
    "df.to_csv(\"data/training_dataset.csv\")\n",
    "with open('data/training_dataset.json', 'w') as fout:\n",
    "    json.dump(full_data, fout)"
   ]
  },
  {
   "cell_type": "markdown",
   "id": "ba564a2b",
   "metadata": {},
   "source": [
    "# Validation"
   ]
  },
  {
   "cell_type": "code",
   "execution_count": 5,
   "id": "44db0be6",
   "metadata": {},
   "outputs": [],
   "source": [
    "#folder names are written as up to 유증상\n",
    "val_dogs_folder = \"data/152.반려동물 피부질환 데이터/01.데이터/2.Validation/2_라벨링데이터/VL01/반려견/피부/일반카메라/유증상/\"\n",
    "val_cats_folder = \"data/152.반려동물 피부질환 데이터/01.데이터/2.Validation/2_라벨링데이터/VL01/반려묘/피부/일반카메라/유증상\"\n",
    "\n",
    "val_parsed_dogs_data = parse_animal_json_files(val_dogs_folder, \"반려견\")\n",
    "val_parsed_cats_data = parse_animal_json_files(val_cats_folder, \"반려묘\")\n",
    "val_full_data = val_parsed_dogs_data + val_parsed_cats_data\n",
    "\n",
    "val_df = pd.DataFrame(val_full_data)\n",
    "val_df.to_csv(\"data/validation_dataset.csv\")\n",
    "with open('data/validation_dataset.json', 'w') as fout:\n",
    "    json.dump(val_full_data, fout)"
   ]
  },
  {
   "cell_type": "code",
   "execution_count": null,
   "id": "4b74535f",
   "metadata": {},
   "outputs": [],
   "source": []
  }
 ],
 "metadata": {
  "kernelspec": {
   "display_name": "Python 3 (ipykernel)",
   "language": "python",
   "name": "python3"
  },
  "language_info": {
   "codemirror_mode": {
    "name": "ipython",
    "version": 3
   },
   "file_extension": ".py",
   "mimetype": "text/x-python",
   "name": "python",
   "nbconvert_exporter": "python",
   "pygments_lexer": "ipython3",
   "version": "3.8.11"
  }
 },
 "nbformat": 4,
 "nbformat_minor": 5
}
