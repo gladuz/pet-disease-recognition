{
  "cells": [
    {
      "cell_type": "code",
      "execution_count": 1,
      "metadata": {
        "id": "0YBEz670Nnmv"
      },
      "outputs": [],
      "source": [
        "import matplotlib.pyplot as plt\n",
        "import numpy as np\n",
        "import os\n",
        "import PIL\n",
        "import tensorflow as tf\n",
        "from tensorflow import keras\n",
        "from tensorflow.keras import layers\n",
        "from tensorflow.python.keras.layers import Dense, Flatten\n",
        "from tensorflow.keras.models import Sequential\n",
        "from tensorflow.keras.optimizers import Adam\n",
        "import pickle"
      ]
    },
    {
      "cell_type": "markdown",
      "metadata": {
        "id": "Ir0q0GyfgmSI"
      },
      "source": [
        "# Preparing The Data"
      ]
    },
    {
      "cell_type": "code",
      "execution_count": 2,
      "metadata": {
        "colab": {
          "base_uri": "https://localhost:8080/"
        },
        "id": "3RsArhJdnt6h",
        "outputId": "bf89e742-d3d6-44b3-8c23-2a631a296086"
      },
      "outputs": [
        {
          "output_type": "stream",
          "name": "stdout",
          "text": [
            "Mounted at /content/drive\n"
          ]
        }
      ],
      "source": [
        "from google.colab import drive\n",
        "drive.mount('/content/drive')"
      ]
    },
    {
      "cell_type": "code",
      "execution_count": 3,
      "metadata": {
        "id": "w4tSrQZvT7P2"
      },
      "outputs": [],
      "source": [
        "pickle_in = open(\"/content/drive/MyDrive/petskindata/X_train_cropped.pickle\",\"rb\")\n",
        "X=pickle.load(pickle_in)\n",
        "pickle_in = open(\"/content/drive/MyDrive/petskindata/y_train_cropped.pickle\",\"rb\")\n",
        "y=pickle.load(pickle_in)\n",
        "pickle_in = open(\"/content/drive/MyDrive/petskindata/X_test_cropped.pickle\",\"rb\")\n",
        "X_test=pickle.load(pickle_in)\n",
        "pickle_in = open(\"/content/drive/MyDrive/petskindata/y_test_cropped.pickle\",\"rb\")\n",
        "y_test=pickle.load(pickle_in)"
      ]
    },
    {
      "cell_type": "code",
      "execution_count": 4,
      "metadata": {
        "colab": {
          "base_uri": "https://localhost:8080/"
        },
        "id": "BPVwlNe_mjPg",
        "outputId": "f3195731-86e0-43c7-f852-964e14f7021d"
      },
      "outputs": [
        {
          "output_type": "stream",
          "name": "stdout",
          "text": [
            "[[[123 118 112]\n",
            "  [137 132 128]\n",
            "  [124 118 113]\n",
            "  ...\n",
            "  [137  96  68]\n",
            "  [136  95  67]\n",
            "  [135  92  66]]\n",
            "\n",
            " [[122 114 107]\n",
            "  [138 130 124]\n",
            "  [109 100  94]\n",
            "  ...\n",
            "  [131  91  65]\n",
            "  [127  87  60]\n",
            "  [127  85  60]]\n",
            "\n",
            " [[125 115 107]\n",
            "  [150 140 132]\n",
            "  [115 103  96]\n",
            "  ...\n",
            "  [117  79  55]\n",
            "  [115  77  51]\n",
            "  [118  78  53]]\n",
            "\n",
            " ...\n",
            "\n",
            " [[152 123 107]\n",
            "  [101  72  56]\n",
            "  [158 129 111]\n",
            "  ...\n",
            "  [131 118 109]\n",
            "  [115 103  92]\n",
            "  [137 128 118]]\n",
            "\n",
            " [[155 127 112]\n",
            "  [131 102  86]\n",
            "  [125  96  78]\n",
            "  ...\n",
            "  [ 92  80  71]\n",
            "  [109  99  90]\n",
            "  [154 145 137]]\n",
            "\n",
            " [[134 106  91]\n",
            "  [136 107  91]\n",
            "  [119  90  72]\n",
            "  ...\n",
            "  [106  95  88]\n",
            "  [123 112 105]\n",
            "  [158 150 143]]] 2 [[[203 175 164]\n",
            "  [208 178 168]\n",
            "  [216 185 175]\n",
            "  ...\n",
            "  [216 191 188]\n",
            "  [213 192 189]\n",
            "  [208 187 184]]\n",
            "\n",
            " [[202 171 161]\n",
            "  [208 177 167]\n",
            "  [212 180 171]\n",
            "  ...\n",
            "  [204 179 175]\n",
            "  [202 181 176]\n",
            "  [208 187 182]]\n",
            "\n",
            " [[204 171 162]\n",
            "  [207 174 166]\n",
            "  [215 182 173]\n",
            "  ...\n",
            "  [209 185 179]\n",
            "  [209 189 182]\n",
            "  [216 196 189]]\n",
            "\n",
            " ...\n",
            "\n",
            " [[196 161 155]\n",
            "  [199 165 159]\n",
            "  [201 168 161]\n",
            "  ...\n",
            "  [208 166 158]\n",
            "  [197 157 149]\n",
            "  [185 145 137]]\n",
            "\n",
            " [[202 165 159]\n",
            "  [204 168 162]\n",
            "  [206 170 164]\n",
            "  ...\n",
            "  [174 133 125]\n",
            "  [168 128 120]\n",
            "  [155 115 107]]\n",
            "\n",
            " [[185 148 142]\n",
            "  [197 158 153]\n",
            "  [189 150 145]\n",
            "  ...\n",
            "  [167 127 119]\n",
            "  [178 138 130]\n",
            "  [180 141 133]]] 1\n"
          ]
        }
      ],
      "source": [
        "print(X[0], y[0], X_test[0], y_test[0])"
      ]
    },
    {
      "cell_type": "code",
      "execution_count": 5,
      "metadata": {
        "id": "lamrhoOQUqB0"
      },
      "outputs": [],
      "source": [
        "class_names = [\"A1_구진_플라크\",\"A2_비듬_각질_상피성잔고리\",\"A3_태선화_과다색소침착\",\"A4_농포_여드름\",\"A5_미란_궤양\",\"A6_결절_종괴\"]"
      ]
    },
    {
      "cell_type": "code",
      "execution_count": 6,
      "metadata": {
        "colab": {
          "base_uri": "https://localhost:8080/",
          "height": 35
        },
        "id": "XKS_FpePrRSi",
        "outputId": "71d813dc-556a-463a-b8b4-fbcf01edd719"
      },
      "outputs": [
        {
          "output_type": "execute_result",
          "data": {
            "text/plain": [
              "'A3_태선화_과다색소침착'"
            ],
            "application/vnd.google.colaboratory.intrinsic+json": {
              "type": "string"
            }
          },
          "metadata": {},
          "execution_count": 6
        }
      ],
      "source": [
        "class_names[y[0]]"
      ]
    },
    {
      "cell_type": "code",
      "execution_count": 7,
      "metadata": {
        "id": "IletQGOQr_T9"
      },
      "outputs": [],
      "source": [
        "y=np.array(y)\n",
        "y_test=np.array(y_test)"
      ]
    },
    {
      "cell_type": "code",
      "execution_count": 7,
      "metadata": {
        "id": "3zhkyQue1tit"
      },
      "outputs": [],
      "source": []
    },
    {
      "cell_type": "markdown",
      "metadata": {
        "id": "jK5tHnEpggbu"
      },
      "source": [
        "# Training The Model\n"
      ]
    },
    {
      "cell_type": "code",
      "execution_count": 8,
      "metadata": {
        "colab": {
          "base_uri": "https://localhost:8080/"
        },
        "id": "0AzdT8-Ya_lO",
        "outputId": "ebf48f37-9f9f-4a8f-eb55-9d9aa075dc26"
      },
      "outputs": [
        {
          "output_type": "stream",
          "name": "stdout",
          "text": [
            "Downloading data from https://storage.googleapis.com/tensorflow/keras-applications/xception/xception_weights_tf_dim_ordering_tf_kernels_notop.h5\n",
            "83683744/83683744 [==============================] - 5s 0us/step\n"
          ]
        }
      ],
      "source": [
        "xception_model = Sequential()\n",
        "\n",
        "pretrained_model= tf.keras.applications.Xception(include_top=False,\n",
        "                   input_shape=(100,100,3),\n",
        "                   pooling='avg',classes=6,\n",
        "                   weights='imagenet')\n",
        "for layer in pretrained_model.layers:\n",
        "        layer.trainable=False\n",
        "\n",
        "xception_model.add(pretrained_model)\n",
        "xception_model.add(Flatten())\n",
        "xception_model.add(Dense(512, activation='relu'))\n",
        "xception_model.add(Dense(6, activation='softmax'))"
      ]
    },
    {
      "cell_type": "code",
      "execution_count": 9,
      "metadata": {
        "colab": {
          "base_uri": "https://localhost:8080/"
        },
        "id": "zAgSK9fAbp6y",
        "outputId": "3adf6924-e08f-4e80-9d07-77ef08574dd5"
      },
      "outputs": [
        {
          "output_type": "stream",
          "name": "stdout",
          "text": [
            "Model: \"sequential\"\n",
            "_________________________________________________________________\n",
            " Layer (type)                Output Shape              Param #   \n",
            "=================================================================\n",
            " xception (Functional)       (None, 2048)              20861480  \n",
            "                                                                 \n",
            " module_wrapper (ModuleWrapp  (None, 2048)             0         \n",
            " er)                                                             \n",
            "                                                                 \n",
            " module_wrapper_1 (ModuleWra  (None, 512)              1049088   \n",
            " pper)                                                           \n",
            "                                                                 \n",
            " module_wrapper_2 (ModuleWra  (None, 6)                3078      \n",
            " pper)                                                           \n",
            "                                                                 \n",
            "=================================================================\n",
            "Total params: 21,913,646\n",
            "Trainable params: 1,052,166\n",
            "Non-trainable params: 20,861,480\n",
            "_________________________________________________________________\n"
          ]
        }
      ],
      "source": [
        "xception_model.summary()"
      ]
    },
    {
      "cell_type": "code",
      "execution_count": 10,
      "metadata": {
        "id": "vPCJsk68dm40"
      },
      "outputs": [],
      "source": [
        "xception_model.compile(optimizer=Adam(),loss='sparse_categorical_crossentropy',metrics=['accuracy'])"
      ]
    },
    {
      "cell_type": "code",
      "execution_count": 11,
      "metadata": {
        "colab": {
          "base_uri": "https://localhost:8080/"
        },
        "id": "wXEYsGTaeFi4",
        "outputId": "c43153df-91b2-4559-bad6-d51cf2f59b0f"
      },
      "outputs": [
        {
          "output_type": "stream",
          "name": "stdout",
          "text": [
            "Epoch 1/30\n",
            "1330/1330 [==============================] - 61s 36ms/step - loss: 2.2202 - accuracy: 0.3307 - val_loss: 1.5584 - val_accuracy: 0.3832\n",
            "Epoch 2/30\n",
            "1330/1330 [==============================] - 47s 36ms/step - loss: 1.5558 - accuracy: 0.3776 - val_loss: 1.5582 - val_accuracy: 0.3739\n",
            "Epoch 3/30\n",
            "1330/1330 [==============================] - 48s 36ms/step - loss: 1.5391 - accuracy: 0.3853 - val_loss: 1.5510 - val_accuracy: 0.3810\n",
            "Epoch 4/30\n",
            "1330/1330 [==============================] - 49s 37ms/step - loss: 1.5320 - accuracy: 0.3883 - val_loss: 1.5283 - val_accuracy: 0.3904\n",
            "Epoch 5/30\n",
            "1330/1330 [==============================] - 48s 36ms/step - loss: 1.5247 - accuracy: 0.3936 - val_loss: 1.5313 - val_accuracy: 0.3860\n",
            "Epoch 6/30\n",
            "1330/1330 [==============================] - 49s 37ms/step - loss: 1.5150 - accuracy: 0.3978 - val_loss: 1.5306 - val_accuracy: 0.3862\n",
            "Epoch 7/30\n",
            "1330/1330 [==============================] - 46s 35ms/step - loss: 1.5090 - accuracy: 0.4017 - val_loss: 1.5374 - val_accuracy: 0.3844\n",
            "Epoch 8/30\n",
            "1330/1330 [==============================] - 48s 36ms/step - loss: 1.5028 - accuracy: 0.4060 - val_loss: 1.5278 - val_accuracy: 0.3939\n",
            "Epoch 9/30\n",
            "1330/1330 [==============================] - 48s 36ms/step - loss: 1.4993 - accuracy: 0.4049 - val_loss: 1.5171 - val_accuracy: 0.4026\n",
            "Epoch 10/30\n",
            "1330/1330 [==============================] - 48s 36ms/step - loss: 1.4909 - accuracy: 0.4096 - val_loss: 1.5736 - val_accuracy: 0.3819\n",
            "Epoch 11/30\n",
            "1330/1330 [==============================] - 48s 36ms/step - loss: 1.4864 - accuracy: 0.4124 - val_loss: 1.5173 - val_accuracy: 0.3949\n",
            "Epoch 12/30\n",
            "1330/1330 [==============================] - 48s 36ms/step - loss: 1.4821 - accuracy: 0.4123 - val_loss: 1.5150 - val_accuracy: 0.3982\n",
            "Epoch 13/30\n",
            "1330/1330 [==============================] - 48s 36ms/step - loss: 1.4798 - accuracy: 0.4131 - val_loss: 1.5307 - val_accuracy: 0.3971\n",
            "Epoch 14/30\n",
            "1330/1330 [==============================] - 46s 35ms/step - loss: 1.4750 - accuracy: 0.4167 - val_loss: 1.5126 - val_accuracy: 0.4014\n",
            "Epoch 15/30\n",
            "1330/1330 [==============================] - 48s 36ms/step - loss: 1.4695 - accuracy: 0.4174 - val_loss: 1.5514 - val_accuracy: 0.3877\n",
            "Epoch 16/30\n",
            "1330/1330 [==============================] - 48s 36ms/step - loss: 1.4652 - accuracy: 0.4210 - val_loss: 1.5237 - val_accuracy: 0.4019\n",
            "Epoch 17/30\n",
            "1330/1330 [==============================] - 48s 36ms/step - loss: 1.4657 - accuracy: 0.4200 - val_loss: 1.5394 - val_accuracy: 0.3919\n",
            "Epoch 18/30\n",
            "1330/1330 [==============================] - 48s 36ms/step - loss: 1.4597 - accuracy: 0.4213 - val_loss: 1.5052 - val_accuracy: 0.4059\n",
            "Epoch 19/30\n",
            "1330/1330 [==============================] - 48s 36ms/step - loss: 1.4564 - accuracy: 0.4203 - val_loss: 1.5013 - val_accuracy: 0.4086\n",
            "Epoch 20/30\n",
            "1330/1330 [==============================] - 48s 36ms/step - loss: 1.4522 - accuracy: 0.4252 - val_loss: 1.5155 - val_accuracy: 0.4060\n",
            "Epoch 21/30\n",
            "1330/1330 [==============================] - 48s 36ms/step - loss: 1.4512 - accuracy: 0.4249 - val_loss: 1.5068 - val_accuracy: 0.4088\n",
            "Epoch 22/30\n",
            "1330/1330 [==============================] - 48s 36ms/step - loss: 1.4490 - accuracy: 0.4284 - val_loss: 1.5873 - val_accuracy: 0.3917\n",
            "Epoch 23/30\n",
            "1330/1330 [==============================] - 48s 36ms/step - loss: 1.4451 - accuracy: 0.4270 - val_loss: 1.5217 - val_accuracy: 0.3990\n",
            "Epoch 24/30\n",
            "1330/1330 [==============================] - 48s 36ms/step - loss: 1.4437 - accuracy: 0.4306 - val_loss: 1.5143 - val_accuracy: 0.4080\n",
            "Epoch 25/30\n",
            "1330/1330 [==============================] - 48s 36ms/step - loss: 1.4409 - accuracy: 0.4278 - val_loss: 1.5380 - val_accuracy: 0.4005\n",
            "Epoch 26/30\n",
            "1330/1330 [==============================] - 48s 36ms/step - loss: 1.4398 - accuracy: 0.4312 - val_loss: 1.5172 - val_accuracy: 0.4115\n",
            "Epoch 27/30\n",
            "1330/1330 [==============================] - 47s 36ms/step - loss: 1.4402 - accuracy: 0.4310 - val_loss: 1.5296 - val_accuracy: 0.3990\n",
            "Epoch 28/30\n",
            "1330/1330 [==============================] - 48s 36ms/step - loss: 1.4338 - accuracy: 0.4341 - val_loss: 1.5505 - val_accuracy: 0.3942\n",
            "Epoch 29/30\n",
            "1330/1330 [==============================] - 48s 36ms/step - loss: 1.4306 - accuracy: 0.4361 - val_loss: 1.5740 - val_accuracy: 0.3824\n",
            "Epoch 30/30\n",
            "1330/1330 [==============================] - 46s 35ms/step - loss: 1.4326 - accuracy: 0.4333 - val_loss: 1.5267 - val_accuracy: 0.4167\n"
          ]
        }
      ],
      "source": [
        "epochs=30\n",
        "history = xception_model.fit(X,y, epochs=epochs, validation_split=0.2)"
      ]
    },
    {
      "cell_type": "markdown",
      "metadata": {
        "id": "O7YV3_DPos13"
      },
      "source": []
    },
    {
      "cell_type": "markdown",
      "metadata": {
        "id": "ggs5y5NcgcAH"
      },
      "source": [
        "# Evaluating The Model"
      ]
    },
    {
      "cell_type": "code",
      "execution_count": 12,
      "metadata": {
        "colab": {
          "base_uri": "https://localhost:8080/",
          "height": 472
        },
        "id": "vAjGo1SvePCE",
        "outputId": "8be45512-047b-4d5e-bb97-acd5f7985929"
      },
      "outputs": [
        {
          "output_type": "display_data",
          "data": {
            "text/plain": [
              "<Figure size 640x480 with 1 Axes>"
            ],
            "image/png": "[encoded data removed]"
          },
          "metadata": {}
        }
      ],
      "source": [
        "fig1 = plt.gcf()\n",
        "plt.plot(history.history['accuracy'])\n",
        "plt.plot(history.history['val_accuracy'])\n",
        "plt.axis(ymin=0.4,ymax=1)\n",
        "plt.grid()\n",
        "plt.title('Model Accuracy')\n",
        "plt.ylabel('Accuracy')\n",
        "plt.xlabel('Epochs')\n",
        "plt.legend(['train', 'validation'])\n",
        "plt.show()"
      ]
    },
    {
      "cell_type": "code",
      "execution_count": 13,
      "metadata": {
        "colab": {
          "base_uri": "https://localhost:8080/",
          "height": 472
        },
        "id": "rEUy8LNOeCVF",
        "outputId": "db7d41e7-a51e-4026-87eb-b99d9a93232b"
      },
      "outputs": [
        {
          "output_type": "display_data",
          "data": {
            "text/plain": [
              "<Figure size 640x480 with 1 Axes>"
            ],
            "image/png": "[encoded data removed]"
          },
          "metadata": {}
        }
      ],
      "source": [
        "plt.plot(history.history['loss'])\n",
        "plt.plot(history.history['val_loss'])\n",
        "plt.grid()\n",
        "plt.title('Model Loss')\n",
        "plt.ylabel('Loss')\n",
        "plt.xlabel('Epochs')\n",
        "plt.legend(['train', 'validation'])\n",
        "plt.show()"
      ]
    },
    {
      "cell_type": "code",
      "execution_count": 14,
      "metadata": {
        "id": "cJT_2rFluFgJ",
        "colab": {
          "base_uri": "https://localhost:8080/"
        },
        "outputId": "ebab1b10-c943-4b0c-9453-ee35ac3ebabc"
      },
      "outputs": [
        {
          "output_type": "stream",
          "name": "stdout",
          "text": [
            "208/208 [==============================] - 6s 30ms/step - loss: 1.7034 - accuracy: 0.3332\n"
          ]
        },
        {
          "output_type": "execute_result",
          "data": {
            "text/plain": [
              "[1.703393578529358, 0.3332330286502838]"
            ]
          },
          "metadata": {},
          "execution_count": 14
        }
      ],
      "source": [
        "xception_model.evaluate(X_test, y_test)"
      ]
    }
  ],
  "metadata": {
    "accelerator": "GPU",
    "colab": {
      "provenance": []
    },
    "gpuClass": "standard",
    "kernelspec": {
      "display_name": "Python 3",
      "name": "python3"
    },
    "language_info": {
      "name": "python"
    }
  },
  "nbformat": 4,
  "nbformat_minor": 0
}