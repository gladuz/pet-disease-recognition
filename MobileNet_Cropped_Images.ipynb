{
  "cells": [
    {
      "cell_type": "code",
      "execution_count": 1,
      "metadata": {
        "id": "0YBEz670Nnmv"
      },
      "outputs": [],
      "source": [
        "import matplotlib.pyplot as plt\n",
        "import numpy as np\n",
        "import os\n",
        "import PIL\n",
        "import tensorflow as tf\n",
        "from tensorflow import keras\n",
        "from tensorflow.keras import layers\n",
        "from tensorflow.python.keras.layers import Dense, Flatten\n",
        "from tensorflow.keras.models import Sequential\n",
        "from tensorflow.keras.optimizers import Adam\n",
        "import pickle"
      ]
    },
    {
      "cell_type": "markdown",
      "metadata": {
        "id": "Ir0q0GyfgmSI"
      },
      "source": [
        "# Preparing The Data"
      ]
    },
    {
      "cell_type": "code",
      "execution_count": 2,
      "metadata": {
        "colab": {
          "base_uri": "https://localhost:8080/"
        },
        "id": "3RsArhJdnt6h",
        "outputId": "727913ee-5e43-4529-ee5f-eb7629f689e6"
      },
      "outputs": [
        {
          "output_type": "stream",
          "name": "stdout",
          "text": [
            "Mounted at /content/drive\n"
          ]
        }
      ],
      "source": [
        "from google.colab import drive\n",
        "drive.mount('/content/drive')"
      ]
    },
    {
      "cell_type": "code",
      "execution_count": 3,
      "metadata": {
        "id": "w4tSrQZvT7P2"
      },
      "outputs": [],
      "source": [
        "pickle_in = open(\"/content/drive/MyDrive/petskindata/X_train_cropped.pickle\",\"rb\")\n",
        "X=pickle.load(pickle_in)\n",
        "pickle_in = open(\"/content/drive/MyDrive/petskindata/y_train_cropped.pickle\",\"rb\")\n",
        "y=pickle.load(pickle_in)\n",
        "pickle_in = open(\"/content/drive/MyDrive/petskindata/X_test_cropped.pickle\",\"rb\")\n",
        "X_test=pickle.load(pickle_in)\n",
        "pickle_in = open(\"/content/drive/MyDrive/petskindata/y_test_cropped.pickle\",\"rb\")\n",
        "y_test=pickle.load(pickle_in)"
      ]
    },
    {
      "cell_type": "code",
      "execution_count": 4,
      "metadata": {
        "colab": {
          "base_uri": "https://localhost:8080/"
        },
        "id": "BPVwlNe_mjPg",
        "outputId": "bd453581-68a5-4d01-8dc2-cb140b413003"
      },
      "outputs": [
        {
          "output_type": "stream",
          "name": "stdout",
          "text": [
            "[[[123 118 112]\n",
            "  [137 132 128]\n",
            "  [124 118 113]\n",
            "  ...\n",
            "  [137  96  68]\n",
            "  [136  95  67]\n",
            "  [135  92  66]]\n",
            "\n",
            " [[122 114 107]\n",
            "  [138 130 124]\n",
            "  [109 100  94]\n",
            "  ...\n",
            "  [131  91  65]\n",
            "  [127  87  60]\n",
            "  [127  85  60]]\n",
            "\n",
            " [[125 115 107]\n",
            "  [150 140 132]\n",
            "  [115 103  96]\n",
            "  ...\n",
            "  [117  79  55]\n",
            "  [115  77  51]\n",
            "  [118  78  53]]\n",
            "\n",
            " ...\n",
            "\n",
            " [[152 123 107]\n",
            "  [101  72  56]\n",
            "  [158 129 111]\n",
            "  ...\n",
            "  [131 118 109]\n",
            "  [115 103  92]\n",
            "  [137 128 118]]\n",
            "\n",
            " [[155 127 112]\n",
            "  [131 102  86]\n",
            "  [125  96  78]\n",
            "  ...\n",
            "  [ 92  80  71]\n",
            "  [109  99  90]\n",
            "  [154 145 137]]\n",
            "\n",
            " [[134 106  91]\n",
            "  [136 107  91]\n",
            "  [119  90  72]\n",
            "  ...\n",
            "  [106  95  88]\n",
            "  [123 112 105]\n",
            "  [158 150 143]]] 2 [[[203 175 164]\n",
            "  [208 178 168]\n",
            "  [216 185 175]\n",
            "  ...\n",
            "  [216 191 188]\n",
            "  [213 192 189]\n",
            "  [208 187 184]]\n",
            "\n",
            " [[202 171 161]\n",
            "  [208 177 167]\n",
            "  [212 180 171]\n",
            "  ...\n",
            "  [204 179 175]\n",
            "  [202 181 176]\n",
            "  [208 187 182]]\n",
            "\n",
            " [[204 171 162]\n",
            "  [207 174 166]\n",
            "  [215 182 173]\n",
            "  ...\n",
            "  [209 185 179]\n",
            "  [209 189 182]\n",
            "  [216 196 189]]\n",
            "\n",
            " ...\n",
            "\n",
            " [[196 161 155]\n",
            "  [199 165 159]\n",
            "  [201 168 161]\n",
            "  ...\n",
            "  [208 166 158]\n",
            "  [197 157 149]\n",
            "  [185 145 137]]\n",
            "\n",
            " [[202 165 159]\n",
            "  [204 168 162]\n",
            "  [206 170 164]\n",
            "  ...\n",
            "  [174 133 125]\n",
            "  [168 128 120]\n",
            "  [155 115 107]]\n",
            "\n",
            " [[185 148 142]\n",
            "  [197 158 153]\n",
            "  [189 150 145]\n",
            "  ...\n",
            "  [167 127 119]\n",
            "  [178 138 130]\n",
            "  [180 141 133]]] 1\n"
          ]
        }
      ],
      "source": [
        "print(X[0], y[0], X_test[0], y_test[0])"
      ]
    },
    {
      "cell_type": "code",
      "execution_count": 5,
      "metadata": {
        "id": "lamrhoOQUqB0"
      },
      "outputs": [],
      "source": [
        "class_names = [\"A1_구진_플라크\",\"A2_비듬_각질_상피성잔고리\",\"A3_태선화_과다색소침착\",\"A4_농포_여드름\",\"A5_미란_궤양\",\"A6_결절_종괴\"]"
      ]
    },
    {
      "cell_type": "code",
      "execution_count": 6,
      "metadata": {
        "colab": {
          "base_uri": "https://localhost:8080/",
          "height": 35
        },
        "id": "XKS_FpePrRSi",
        "outputId": "74d929f7-530a-4ce9-d22f-4b7f4ddd5c22"
      },
      "outputs": [
        {
          "output_type": "execute_result",
          "data": {
            "text/plain": [
              "'A3_태선화_과다색소침착'"
            ],
            "application/vnd.google.colaboratory.intrinsic+json": {
              "type": "string"
            }
          },
          "metadata": {},
          "execution_count": 6
        }
      ],
      "source": [
        "class_names[y[0]]"
      ]
    },
    {
      "cell_type": "code",
      "execution_count": 7,
      "metadata": {
        "id": "IletQGOQr_T9"
      },
      "outputs": [],
      "source": [
        "y=np.array(y)\n",
        "y_test=np.array(y_test)"
      ]
    },
    {
      "cell_type": "code",
      "execution_count": 7,
      "metadata": {
        "id": "3zhkyQue1tit"
      },
      "outputs": [],
      "source": []
    },
    {
      "cell_type": "markdown",
      "metadata": {
        "id": "jK5tHnEpggbu"
      },
      "source": [
        "# Training The Model\n"
      ]
    },
    {
      "cell_type": "code",
      "execution_count": 8,
      "metadata": {
        "colab": {
          "base_uri": "https://localhost:8080/"
        },
        "id": "0AzdT8-Ya_lO",
        "outputId": "60107322-15a3-4b7a-f49b-8f000c826e5b"
      },
      "outputs": [
        {
          "output_type": "stream",
          "name": "stderr",
          "text": [
            "WARNING:tensorflow:`input_shape` is undefined or non-square, or `rows` is not in [128, 160, 192, 224]. Weights for input shape (224, 224) will be loaded as the default.\n"
          ]
        },
        {
          "output_type": "stream",
          "name": "stdout",
          "text": [
            "Downloading data from https://storage.googleapis.com/tensorflow/keras-applications/mobilenet/mobilenet_1_0_224_tf_no_top.h5\n",
            "17225924/17225924 [==============================] - 1s 0us/step\n"
          ]
        }
      ],
      "source": [
        "mobilenet_model = Sequential()\n",
        "\n",
        "pretrained_model= tf.keras.applications.MobileNet(include_top=False,\n",
        "                   input_shape=(100,100,3),\n",
        "                   pooling='avg',classes=6,\n",
        "                   weights='imagenet')\n",
        "for layer in pretrained_model.layers:\n",
        "        layer.trainable=False\n",
        "\n",
        "mobilenet_model.add(pretrained_model)\n",
        "mobilenet_model.add(Flatten())\n",
        "mobilenet_model.add(Dense(512, activation='relu'))\n",
        "mobilenet_model.add(Dense(6, activation='softmax'))"
      ]
    },
    {
      "cell_type": "code",
      "execution_count": 9,
      "metadata": {
        "colab": {
          "base_uri": "https://localhost:8080/"
        },
        "id": "zAgSK9fAbp6y",
        "outputId": "dd84c16c-9ee4-4775-c11e-49cfc9e214aa"
      },
      "outputs": [
        {
          "output_type": "stream",
          "name": "stdout",
          "text": [
            "Model: \"sequential\"\n",
            "_________________________________________________________________\n",
            " Layer (type)                Output Shape              Param #   \n",
            "=================================================================\n",
            " mobilenet_1.00_224 (Functio  (None, 1024)             3228864   \n",
            " nal)                                                            \n",
            "                                                                 \n",
            " module_wrapper (ModuleWrapp  (None, 1024)             0         \n",
            " er)                                                             \n",
            "                                                                 \n",
            " module_wrapper_1 (ModuleWra  (None, 512)              524800    \n",
            " pper)                                                           \n",
            "                                                                 \n",
            " module_wrapper_2 (ModuleWra  (None, 6)                3078      \n",
            " pper)                                                           \n",
            "                                                                 \n",
            "=================================================================\n",
            "Total params: 3,756,742\n",
            "Trainable params: 527,878\n",
            "Non-trainable params: 3,228,864\n",
            "_________________________________________________________________\n"
          ]
        }
      ],
      "source": [
        "mobilenet_model.summary()"
      ]
    },
    {
      "cell_type": "code",
      "execution_count": 10,
      "metadata": {
        "id": "vPCJsk68dm40"
      },
      "outputs": [],
      "source": [
        "mobilenet_model.compile(optimizer=Adam(),loss='sparse_categorical_crossentropy',metrics=['accuracy'])"
      ]
    },
    {
      "cell_type": "code",
      "execution_count": 11,
      "metadata": {
        "colab": {
          "base_uri": "https://localhost:8080/"
        },
        "id": "wXEYsGTaeFi4",
        "outputId": "f0a8f8f5-6d07-49e0-f4d8-4f66aca2e478"
      },
      "outputs": [
        {
          "output_type": "stream",
          "name": "stdout",
          "text": [
            "Epoch 1/30\n",
            "1330/1330 [==============================] - 29s 13ms/step - loss: 1.6207 - accuracy: 0.3427 - val_loss: 1.5584 - val_accuracy: 0.3635\n",
            "Epoch 2/30\n",
            "1330/1330 [==============================] - 18s 13ms/step - loss: 1.5487 - accuracy: 0.3670 - val_loss: 1.5465 - val_accuracy: 0.3665\n",
            "Epoch 3/30\n",
            "1330/1330 [==============================] - 15s 12ms/step - loss: 1.5208 - accuracy: 0.3830 - val_loss: 1.5345 - val_accuracy: 0.3721\n",
            "Epoch 4/30\n",
            "1330/1330 [==============================] - 15s 12ms/step - loss: 1.5007 - accuracy: 0.3888 - val_loss: 1.5360 - val_accuracy: 0.3746\n",
            "Epoch 5/30\n",
            "1330/1330 [==============================] - 18s 13ms/step - loss: 1.4805 - accuracy: 0.3980 - val_loss: 1.5333 - val_accuracy: 0.3747\n",
            "Epoch 6/30\n",
            "1330/1330 [==============================] - 18s 13ms/step - loss: 1.4624 - accuracy: 0.4093 - val_loss: 1.5500 - val_accuracy: 0.3665\n",
            "Epoch 7/30\n",
            "1330/1330 [==============================] - 15s 12ms/step - loss: 1.4446 - accuracy: 0.4162 - val_loss: 1.5529 - val_accuracy: 0.3765\n",
            "Epoch 8/30\n",
            "1330/1330 [==============================] - 15s 11ms/step - loss: 1.4249 - accuracy: 0.4248 - val_loss: 1.5366 - val_accuracy: 0.3807\n",
            "Epoch 9/30\n",
            "1330/1330 [==============================] - 18s 13ms/step - loss: 1.4054 - accuracy: 0.4313 - val_loss: 1.5468 - val_accuracy: 0.3850\n",
            "Epoch 10/30\n",
            "1330/1330 [==============================] - 15s 12ms/step - loss: 1.3877 - accuracy: 0.4395 - val_loss: 1.5599 - val_accuracy: 0.3744\n",
            "Epoch 11/30\n",
            "1330/1330 [==============================] - 18s 13ms/step - loss: 1.3708 - accuracy: 0.4472 - val_loss: 1.5634 - val_accuracy: 0.3827\n",
            "Epoch 12/30\n",
            "1330/1330 [==============================] - 18s 13ms/step - loss: 1.3525 - accuracy: 0.4563 - val_loss: 1.5849 - val_accuracy: 0.3837\n",
            "Epoch 13/30\n",
            "1330/1330 [==============================] - 18s 13ms/step - loss: 1.3371 - accuracy: 0.4653 - val_loss: 1.5751 - val_accuracy: 0.3819\n",
            "Epoch 14/30\n",
            "1330/1330 [==============================] - 16s 12ms/step - loss: 1.3169 - accuracy: 0.4726 - val_loss: 1.6010 - val_accuracy: 0.3869\n",
            "Epoch 15/30\n",
            "1330/1330 [==============================] - 18s 14ms/step - loss: 1.2999 - accuracy: 0.4782 - val_loss: 1.6164 - val_accuracy: 0.3771\n",
            "Epoch 16/30\n",
            "1330/1330 [==============================] - 18s 14ms/step - loss: 1.2854 - accuracy: 0.4849 - val_loss: 1.6211 - val_accuracy: 0.3786\n",
            "Epoch 17/30\n",
            "1330/1330 [==============================] - 18s 14ms/step - loss: 1.2679 - accuracy: 0.4901 - val_loss: 1.6205 - val_accuracy: 0.3784\n",
            "Epoch 18/30\n",
            "1330/1330 [==============================] - 18s 14ms/step - loss: 1.2542 - accuracy: 0.4991 - val_loss: 1.6514 - val_accuracy: 0.3760\n",
            "Epoch 19/30\n",
            "1330/1330 [==============================] - 16s 12ms/step - loss: 1.2378 - accuracy: 0.5038 - val_loss: 1.6909 - val_accuracy: 0.3778\n",
            "Epoch 20/30\n",
            "1330/1330 [==============================] - 16s 12ms/step - loss: 1.2194 - accuracy: 0.5108 - val_loss: 1.6985 - val_accuracy: 0.3778\n",
            "Epoch 21/30\n",
            "1330/1330 [==============================] - 18s 14ms/step - loss: 1.2069 - accuracy: 0.5172 - val_loss: 1.7025 - val_accuracy: 0.3753\n",
            "Epoch 22/30\n",
            "1330/1330 [==============================] - 18s 14ms/step - loss: 1.1956 - accuracy: 0.5219 - val_loss: 1.7263 - val_accuracy: 0.3760\n",
            "Epoch 23/30\n",
            "1330/1330 [==============================] - 18s 14ms/step - loss: 1.1815 - accuracy: 0.5283 - val_loss: 1.7620 - val_accuracy: 0.3718\n",
            "Epoch 24/30\n",
            "1330/1330 [==============================] - 16s 12ms/step - loss: 1.1720 - accuracy: 0.5307 - val_loss: 1.7628 - val_accuracy: 0.3732\n",
            "Epoch 25/30\n",
            "1330/1330 [==============================] - 15s 12ms/step - loss: 1.1523 - accuracy: 0.5412 - val_loss: 1.8379 - val_accuracy: 0.3711\n",
            "Epoch 26/30\n",
            "1330/1330 [==============================] - 15s 12ms/step - loss: 1.1416 - accuracy: 0.5436 - val_loss: 1.8276 - val_accuracy: 0.3662\n",
            "Epoch 27/30\n",
            "1330/1330 [==============================] - 15s 12ms/step - loss: 1.1313 - accuracy: 0.5496 - val_loss: 1.8692 - val_accuracy: 0.3635\n",
            "Epoch 28/30\n",
            "1330/1330 [==============================] - 15s 12ms/step - loss: 1.1167 - accuracy: 0.5552 - val_loss: 1.9070 - val_accuracy: 0.3706\n",
            "Epoch 29/30\n",
            "1330/1330 [==============================] - 15s 12ms/step - loss: 1.1062 - accuracy: 0.5585 - val_loss: 1.8991 - val_accuracy: 0.3663\n",
            "Epoch 30/30\n",
            "1330/1330 [==============================] - 18s 14ms/step - loss: 1.0974 - accuracy: 0.5626 - val_loss: 1.9688 - val_accuracy: 0.3704\n"
          ]
        }
      ],
      "source": [
        "epochs=30\n",
        "history = mobilenet_model.fit(X,y, epochs=epochs, validation_split=0.2)"
      ]
    },
    {
      "cell_type": "markdown",
      "metadata": {
        "id": "O7YV3_DPos13"
      },
      "source": []
    },
    {
      "cell_type": "markdown",
      "metadata": {
        "id": "ggs5y5NcgcAH"
      },
      "source": [
        "# Evaluating The Model"
      ]
    },
    {
      "cell_type": "code",
      "execution_count": 15,
      "metadata": {
        "id": "vAjGo1SvePCE",
        "colab": {
          "base_uri": "https://localhost:8080/",
          "height": 472
        },
        "outputId": "a2137790-a98e-426e-aed4-6d463a8bc2cc"
      },
      "outputs": [
        {
          "output_type": "display_data",
          "data": {
            "text/plain": [
              "<Figure size 640x480 with 1 Axes>"
            ],
            "image/png": "[encoded data removed]"
          },
          "metadata": {}
        }
      ],
      "source": [
        "fig1 = plt.gcf()\n",
        "plt.plot(history.history['accuracy'])\n",
        "plt.plot(history.history['val_accuracy'])\n",
        "plt.axis(ymin=0,ymax=1)\n",
        "plt.grid()\n",
        "plt.title('Model Accuracy')\n",
        "plt.ylabel('Accuracy')\n",
        "plt.xlabel('Epochs')\n",
        "plt.legend(['train', 'validation'])\n",
        "plt.show()"
      ]
    },
    {
      "cell_type": "code",
      "execution_count": 13,
      "metadata": {
        "id": "rEUy8LNOeCVF",
        "colab": {
          "base_uri": "https://localhost:8080/",
          "height": 472
        },
        "outputId": "da19c0ff-1e38-47db-c7c8-6a9d6121c85c"
      },
      "outputs": [
        {
          "output_type": "display_data",
          "data": {
            "text/plain": [
              "<Figure size 640x480 with 1 Axes>"
            ],
            "image/png": "[encoded data removed]"
          },
          "metadata": {}
        }
      ],
      "source": [
        "plt.plot(history.history['loss'])\n",
        "plt.plot(history.history['val_loss'])\n",
        "plt.grid()\n",
        "plt.title('Model Loss')\n",
        "plt.ylabel('Loss')\n",
        "plt.xlabel('Epochs')\n",
        "plt.legend(['train', 'validation'])\n",
        "plt.show()"
      ]
    },
    {
      "cell_type": "code",
      "execution_count": 14,
      "metadata": {
        "id": "cJT_2rFluFgJ",
        "colab": {
          "base_uri": "https://localhost:8080/"
        },
        "outputId": "c19358c7-d4f6-4d15-b092-985fec585398"
      },
      "outputs": [
        {
          "output_type": "stream",
          "name": "stdout",
          "text": [
            "208/208 [==============================] - 2s 11ms/step - loss: 2.3860 - accuracy: 0.3200\n"
          ]
        },
        {
          "output_type": "execute_result",
          "data": {
            "text/plain": [
              "[2.3860297203063965, 0.3199939727783203]"
            ]
          },
          "metadata": {},
          "execution_count": 14
        }
      ],
      "source": [
        "mobilenet_model.evaluate(X_test, y_test)"
      ]
    }
  ],
  "metadata": {
    "accelerator": "GPU",
    "colab": {
      "provenance": []
    },
    "gpuClass": "standard",
    "kernelspec": {
      "display_name": "Python 3",
      "name": "python3"
    },
    "language_info": {
      "name": "python"
    }
  },
  "nbformat": 4,
  "nbformat_minor": 0
}